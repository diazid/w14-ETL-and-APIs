{
 "cells": [
  {
   "cell_type": "markdown",
   "source": [],
   "metadata": {
    "collapsed": false
   }
  },
  {
   "cell_type": "markdown",
   "source": [
    "# Applying Advanced Transformations (Core)\n",
    "\n",
    "by Israel Diaz"
   ],
   "metadata": {
    "collapsed": false
   }
  },
  {
   "cell_type": "markdown",
   "source": [
    "## Assignment"
   ],
   "metadata": {
    "collapsed": false
   }
  },
  {
   "cell_type": "markdown",
   "source": [
    "I. Clean the files and combine them into one final DataFrame.\n",
    "\n",
    "* This dataframe should have the following columns:\n",
    "    * Hero (Just the name of the Hero)\n",
    "    * Publisher\n",
    "    * Gender\n",
    "    * Eye color\n",
    "    * Race\n",
    "    * Hair color\n",
    "    * Height (numeric)\n",
    "    * Skin color\n",
    "    * Alignment\n",
    "    * Weight (numeric)\n",
    "    * Plus, one-hot-encoded columns for every power that appears in the dataset. E.g.:\n",
    "        * Agility\n",
    "        * Flight\n",
    "        * Superspeed\n",
    "        * etc.\n",
    "\n",
    "Hint: There is a space in \"100 kg\" or \"52.5 cm\"\n",
    "\n",
    "\n",
    "II. Use your combined DataFrame to answer the following questions.\n",
    "\n",
    "* Compare the average weight of super powers who have Super Speed to those who do not.\n",
    "* What is the average height of heroes for each publisher?"
   ],
   "metadata": {
    "collapsed": false
   }
  },
  {
   "cell_type": "markdown",
   "source": [
    "## Solution"
   ],
   "metadata": {
    "collapsed": false
   }
  },
  {
   "cell_type": "code",
   "execution_count": 1,
   "metadata": {
    "collapsed": true
   },
   "outputs": [],
   "source": [
    "## load libraries\n",
    "## Standard Imports\n",
    "import numpy as np\n",
    "import pandas as pd\n",
    "import matplotlib.pyplot as plt\n",
    "import seaborn as sns\n",
    "## Importing the OS and JSON Modules\n",
    "import os,json\n"
   ]
  },
  {
   "cell_type": "code",
   "execution_count": 2,
   "outputs": [],
   "source": [
    "# Load Dataframes\n",
    "sh_info = pd.read_csv('data/superhero_info - superhero_info.csv')\n",
    "sh_powers = pd.read_csv('data/superhero_powers - superhero_powers.csv')"
   ],
   "metadata": {
    "collapsed": false
   }
  },
  {
   "cell_type": "code",
   "execution_count": 3,
   "outputs": [
    {
     "name": "stdout",
     "output_type": "stream",
     "text": [
      "<class 'pandas.core.frame.DataFrame'>\n",
      "RangeIndex: 463 entries, 0 to 462\n",
      "Data columns (total 8 columns):\n",
      " #   Column          Non-Null Count  Dtype \n",
      "---  ------          --------------  ----- \n",
      " 0   Hero|Publisher  463 non-null    object\n",
      " 1   Gender          463 non-null    object\n",
      " 2   Race            463 non-null    object\n",
      " 3   Alignment       463 non-null    object\n",
      " 4   Hair color      463 non-null    object\n",
      " 5   Eye color       463 non-null    object\n",
      " 6   Skin color      463 non-null    object\n",
      " 7   Measurements    463 non-null    object\n",
      "dtypes: object(8)\n",
      "memory usage: 29.1+ KB\n"
     ]
    }
   ],
   "source": [
    "sh_info.info()"
   ],
   "metadata": {
    "collapsed": false
   }
  },
  {
   "cell_type": "code",
   "execution_count": 4,
   "outputs": [
    {
     "name": "stdout",
     "output_type": "stream",
     "text": [
      "<class 'pandas.core.frame.DataFrame'>\n",
      "RangeIndex: 667 entries, 0 to 666\n",
      "Data columns (total 2 columns):\n",
      " #   Column      Non-Null Count  Dtype \n",
      "---  ------      --------------  ----- \n",
      " 0   hero_names  667 non-null    object\n",
      " 1   Powers      667 non-null    object\n",
      "dtypes: object(2)\n",
      "memory usage: 10.5+ KB\n"
     ]
    }
   ],
   "source": [
    "sh_powers.info()"
   ],
   "metadata": {
    "collapsed": false
   }
  },
  {
   "cell_type": "code",
   "execution_count": 5,
   "outputs": [
    {
     "data": {
      "text/plain": "                 Hero|Publisher Gender               Race Alignment  \\\n0          A-Bomb|Marvel Comics   Male              Human      good   \n1  Abe Sapien|Dark Horse Comics   Male      Icthyo Sapien      good   \n2            Abin Sur|DC Comics   Male            Ungaran      good   \n3     Abomination|Marvel Comics   Male  Human / Radiation       bad   \n4   Absorbing Man|Marvel Comics   Male              Human       bad   \n\n  Hair color Eye color Skin color  \\\n0    No Hair    yellow    Unknown   \n1    No Hair      blue       blue   \n2    No Hair      blue        red   \n3    No Hair     green    Unknown   \n4    No Hair      blue    Unknown   \n\n                                   Measurements  \n0  {'Height': '203.0 cm', 'Weight': '441.0 kg'}  \n1   {'Height': '191.0 cm', 'Weight': '65.0 kg'}  \n2   {'Height': '185.0 cm', 'Weight': '90.0 kg'}  \n3  {'Height': '203.0 cm', 'Weight': '441.0 kg'}  \n4  {'Height': '193.0 cm', 'Weight': '122.0 kg'}  ",
      "text/html": "<div>\n<style scoped>\n    .dataframe tbody tr th:only-of-type {\n        vertical-align: middle;\n    }\n\n    .dataframe tbody tr th {\n        vertical-align: top;\n    }\n\n    .dataframe thead th {\n        text-align: right;\n    }\n</style>\n<table border=\"1\" class=\"dataframe\">\n  <thead>\n    <tr style=\"text-align: right;\">\n      <th></th>\n      <th>Hero|Publisher</th>\n      <th>Gender</th>\n      <th>Race</th>\n      <th>Alignment</th>\n      <th>Hair color</th>\n      <th>Eye color</th>\n      <th>Skin color</th>\n      <th>Measurements</th>\n    </tr>\n  </thead>\n  <tbody>\n    <tr>\n      <th>0</th>\n      <td>A-Bomb|Marvel Comics</td>\n      <td>Male</td>\n      <td>Human</td>\n      <td>good</td>\n      <td>No Hair</td>\n      <td>yellow</td>\n      <td>Unknown</td>\n      <td>{'Height': '203.0 cm', 'Weight': '441.0 kg'}</td>\n    </tr>\n    <tr>\n      <th>1</th>\n      <td>Abe Sapien|Dark Horse Comics</td>\n      <td>Male</td>\n      <td>Icthyo Sapien</td>\n      <td>good</td>\n      <td>No Hair</td>\n      <td>blue</td>\n      <td>blue</td>\n      <td>{'Height': '191.0 cm', 'Weight': '65.0 kg'}</td>\n    </tr>\n    <tr>\n      <th>2</th>\n      <td>Abin Sur|DC Comics</td>\n      <td>Male</td>\n      <td>Ungaran</td>\n      <td>good</td>\n      <td>No Hair</td>\n      <td>blue</td>\n      <td>red</td>\n      <td>{'Height': '185.0 cm', 'Weight': '90.0 kg'}</td>\n    </tr>\n    <tr>\n      <th>3</th>\n      <td>Abomination|Marvel Comics</td>\n      <td>Male</td>\n      <td>Human / Radiation</td>\n      <td>bad</td>\n      <td>No Hair</td>\n      <td>green</td>\n      <td>Unknown</td>\n      <td>{'Height': '203.0 cm', 'Weight': '441.0 kg'}</td>\n    </tr>\n    <tr>\n      <th>4</th>\n      <td>Absorbing Man|Marvel Comics</td>\n      <td>Male</td>\n      <td>Human</td>\n      <td>bad</td>\n      <td>No Hair</td>\n      <td>blue</td>\n      <td>Unknown</td>\n      <td>{'Height': '193.0 cm', 'Weight': '122.0 kg'}</td>\n    </tr>\n  </tbody>\n</table>\n</div>"
     },
     "execution_count": 5,
     "metadata": {},
     "output_type": "execute_result"
    }
   ],
   "source": [
    "sh_info.head()"
   ],
   "metadata": {
    "collapsed": false
   }
  },
  {
   "cell_type": "markdown",
   "source": [
    "### Split Hero and Publisher"
   ],
   "metadata": {
    "collapsed": false
   }
  },
  {
   "cell_type": "code",
   "execution_count": 6,
   "outputs": [
    {
     "data": {
      "text/plain": "                 Hero|Publisher Gender           Race Alignment Hair color  \\\n0          A-Bomb|Marvel Comics   Male          Human      good    No Hair   \n1  Abe Sapien|Dark Horse Comics   Male  Icthyo Sapien      good    No Hair   \n\n  Eye color Skin color                                  Measurements  \\\n0    yellow    Unknown  {'Height': '203.0 cm', 'Weight': '441.0 kg'}   \n1      blue       blue   {'Height': '191.0 cm', 'Weight': '65.0 kg'}   \n\n         Hero          Publisher  \n0      A-Bomb      Marvel Comics  \n1  Abe Sapien  Dark Horse Comics  ",
      "text/html": "<div>\n<style scoped>\n    .dataframe tbody tr th:only-of-type {\n        vertical-align: middle;\n    }\n\n    .dataframe tbody tr th {\n        vertical-align: top;\n    }\n\n    .dataframe thead th {\n        text-align: right;\n    }\n</style>\n<table border=\"1\" class=\"dataframe\">\n  <thead>\n    <tr style=\"text-align: right;\">\n      <th></th>\n      <th>Hero|Publisher</th>\n      <th>Gender</th>\n      <th>Race</th>\n      <th>Alignment</th>\n      <th>Hair color</th>\n      <th>Eye color</th>\n      <th>Skin color</th>\n      <th>Measurements</th>\n      <th>Hero</th>\n      <th>Publisher</th>\n    </tr>\n  </thead>\n  <tbody>\n    <tr>\n      <th>0</th>\n      <td>A-Bomb|Marvel Comics</td>\n      <td>Male</td>\n      <td>Human</td>\n      <td>good</td>\n      <td>No Hair</td>\n      <td>yellow</td>\n      <td>Unknown</td>\n      <td>{'Height': '203.0 cm', 'Weight': '441.0 kg'}</td>\n      <td>A-Bomb</td>\n      <td>Marvel Comics</td>\n    </tr>\n    <tr>\n      <th>1</th>\n      <td>Abe Sapien|Dark Horse Comics</td>\n      <td>Male</td>\n      <td>Icthyo Sapien</td>\n      <td>good</td>\n      <td>No Hair</td>\n      <td>blue</td>\n      <td>blue</td>\n      <td>{'Height': '191.0 cm', 'Weight': '65.0 kg'}</td>\n      <td>Abe Sapien</td>\n      <td>Dark Horse Comics</td>\n    </tr>\n  </tbody>\n</table>\n</div>"
     },
     "execution_count": 6,
     "metadata": {},
     "output_type": "execute_result"
    }
   ],
   "source": [
    "sh_info[['Hero','Publisher']] = sh_info['Hero|Publisher'].str.split('|',expand=True)\n",
    "sh_info.head(2)"
   ],
   "metadata": {
    "collapsed": false
   }
  },
  {
   "cell_type": "code",
   "execution_count": 7,
   "outputs": [
    {
     "data": {
      "text/plain": "  Gender           Race Alignment Hair color Eye color Skin color  \\\n0   Male          Human      good    No Hair    yellow    Unknown   \n1   Male  Icthyo Sapien      good    No Hair      blue       blue   \n\n                                   Measurements        Hero          Publisher  \n0  {'Height': '203.0 cm', 'Weight': '441.0 kg'}      A-Bomb      Marvel Comics  \n1   {'Height': '191.0 cm', 'Weight': '65.0 kg'}  Abe Sapien  Dark Horse Comics  ",
      "text/html": "<div>\n<style scoped>\n    .dataframe tbody tr th:only-of-type {\n        vertical-align: middle;\n    }\n\n    .dataframe tbody tr th {\n        vertical-align: top;\n    }\n\n    .dataframe thead th {\n        text-align: right;\n    }\n</style>\n<table border=\"1\" class=\"dataframe\">\n  <thead>\n    <tr style=\"text-align: right;\">\n      <th></th>\n      <th>Gender</th>\n      <th>Race</th>\n      <th>Alignment</th>\n      <th>Hair color</th>\n      <th>Eye color</th>\n      <th>Skin color</th>\n      <th>Measurements</th>\n      <th>Hero</th>\n      <th>Publisher</th>\n    </tr>\n  </thead>\n  <tbody>\n    <tr>\n      <th>0</th>\n      <td>Male</td>\n      <td>Human</td>\n      <td>good</td>\n      <td>No Hair</td>\n      <td>yellow</td>\n      <td>Unknown</td>\n      <td>{'Height': '203.0 cm', 'Weight': '441.0 kg'}</td>\n      <td>A-Bomb</td>\n      <td>Marvel Comics</td>\n    </tr>\n    <tr>\n      <th>1</th>\n      <td>Male</td>\n      <td>Icthyo Sapien</td>\n      <td>good</td>\n      <td>No Hair</td>\n      <td>blue</td>\n      <td>blue</td>\n      <td>{'Height': '191.0 cm', 'Weight': '65.0 kg'}</td>\n      <td>Abe Sapien</td>\n      <td>Dark Horse Comics</td>\n    </tr>\n  </tbody>\n</table>\n</div>"
     },
     "execution_count": 7,
     "metadata": {},
     "output_type": "execute_result"
    }
   ],
   "source": [
    "sh_info.drop(columns='Hero|Publisher', inplace=True)\n",
    "sh_info.head(2)"
   ],
   "metadata": {
    "collapsed": false
   }
  },
  {
   "cell_type": "markdown",
   "source": [
    "### Strings into Dictionary"
   ],
   "metadata": {
    "collapsed": false
   }
  },
  {
   "cell_type": "code",
   "execution_count": 8,
   "outputs": [
    {
     "data": {
      "text/plain": "\"{'Height': '191.0 cm', 'Weight': '65.0 kg'}\""
     },
     "execution_count": 8,
     "metadata": {},
     "output_type": "execute_result"
    }
   ],
   "source": [
    "sh_info.Measurements[1]"
   ],
   "metadata": {
    "collapsed": false
   }
  },
  {
   "cell_type": "code",
   "execution_count": 9,
   "outputs": [
    {
     "data": {
      "text/plain": "0    {'Height': '203.0 cm', 'Weight': '441.0 kg'}\n1     {'Height': '191.0 cm', 'Weight': '65.0 kg'}\n2     {'Height': '185.0 cm', 'Weight': '90.0 kg'}\n3    {'Height': '203.0 cm', 'Weight': '441.0 kg'}\n4    {'Height': '193.0 cm', 'Weight': '122.0 kg'}\nName: Measurements, dtype: object"
     },
     "execution_count": 9,
     "metadata": {},
     "output_type": "execute_result"
    }
   ],
   "source": [
    "## use .str.replace to replace all single quotes\n",
    "sh_info['Measurements'] = sh_info['Measurements'].str.replace(\"'\",'\"')\n",
    "## Apply the json.loads to the full column\n",
    "sh_info['Measurements'] = sh_info['Measurements'].apply(json.loads)\n",
    "sh_info['Measurements'].head()\n"
   ],
   "metadata": {
    "collapsed": false
   }
  },
  {
   "cell_type": "code",
   "execution_count": 10,
   "outputs": [
    {
     "data": {
      "text/plain": "     Height    Weight\n0  203.0 cm  441.0 kg\n1  191.0 cm   65.0 kg\n2  185.0 cm   90.0 kg\n3  203.0 cm  441.0 kg\n4  193.0 cm  122.0 kg",
      "text/html": "<div>\n<style scoped>\n    .dataframe tbody tr th:only-of-type {\n        vertical-align: middle;\n    }\n\n    .dataframe tbody tr th {\n        vertical-align: top;\n    }\n\n    .dataframe thead th {\n        text-align: right;\n    }\n</style>\n<table border=\"1\" class=\"dataframe\">\n  <thead>\n    <tr style=\"text-align: right;\">\n      <th></th>\n      <th>Height</th>\n      <th>Weight</th>\n    </tr>\n  </thead>\n  <tbody>\n    <tr>\n      <th>0</th>\n      <td>203.0 cm</td>\n      <td>441.0 kg</td>\n    </tr>\n    <tr>\n      <th>1</th>\n      <td>191.0 cm</td>\n      <td>65.0 kg</td>\n    </tr>\n    <tr>\n      <th>2</th>\n      <td>185.0 cm</td>\n      <td>90.0 kg</td>\n    </tr>\n    <tr>\n      <th>3</th>\n      <td>203.0 cm</td>\n      <td>441.0 kg</td>\n    </tr>\n    <tr>\n      <th>4</th>\n      <td>193.0 cm</td>\n      <td>122.0 kg</td>\n    </tr>\n  </tbody>\n</table>\n</div>"
     },
     "execution_count": 10,
     "metadata": {},
     "output_type": "execute_result"
    }
   ],
   "source": [
    "## unpack to separate columns\n",
    "hei_wei = sh_info['Measurements'].apply(pd.Series)\n",
    "hei_wei.head(5)"
   ],
   "metadata": {
    "collapsed": false
   }
  },
  {
   "cell_type": "code",
   "execution_count": 11,
   "outputs": [
    {
     "data": {
      "text/plain": "  Height [cm] Weight [Kg]\n0    203.0 cm    441.0 kg\n1    191.0 cm     65.0 kg\n2    185.0 cm     90.0 kg\n3    203.0 cm    441.0 kg\n4    193.0 cm    122.0 kg",
      "text/html": "<div>\n<style scoped>\n    .dataframe tbody tr th:only-of-type {\n        vertical-align: middle;\n    }\n\n    .dataframe tbody tr th {\n        vertical-align: top;\n    }\n\n    .dataframe thead th {\n        text-align: right;\n    }\n</style>\n<table border=\"1\" class=\"dataframe\">\n  <thead>\n    <tr style=\"text-align: right;\">\n      <th></th>\n      <th>Height [cm]</th>\n      <th>Weight [Kg]</th>\n    </tr>\n  </thead>\n  <tbody>\n    <tr>\n      <th>0</th>\n      <td>203.0 cm</td>\n      <td>441.0 kg</td>\n    </tr>\n    <tr>\n      <th>1</th>\n      <td>191.0 cm</td>\n      <td>65.0 kg</td>\n    </tr>\n    <tr>\n      <th>2</th>\n      <td>185.0 cm</td>\n      <td>90.0 kg</td>\n    </tr>\n    <tr>\n      <th>3</th>\n      <td>203.0 cm</td>\n      <td>441.0 kg</td>\n    </tr>\n    <tr>\n      <th>4</th>\n      <td>193.0 cm</td>\n      <td>122.0 kg</td>\n    </tr>\n  </tbody>\n</table>\n</div>"
     },
     "execution_count": 11,
     "metadata": {},
     "output_type": "execute_result"
    }
   ],
   "source": [
    "## Renaming columns name to include unit\n",
    "hei_wei.columns = ['Height [cm]', 'Weight [Kg]']\n",
    "hei_wei.head()"
   ],
   "metadata": {
    "collapsed": false
   }
  },
  {
   "cell_type": "code",
   "execution_count": 12,
   "outputs": [],
   "source": [
    "## convert to integer\n",
    "for col in hei_wei.columns:\n",
    "    hei_wei[col] = hei_wei[col].str.split(' ',expand=True)[0]\n",
    "    hei_wei[col] = hei_wei[col].astype('float').astype('int')"
   ],
   "metadata": {
    "collapsed": false
   }
  },
  {
   "cell_type": "code",
   "execution_count": 13,
   "outputs": [
    {
     "data": {
      "text/plain": "   Height [cm]  Weight [Kg]\n0          203          441\n1          191           65\n2          185           90\n3          203          441\n4          193          122",
      "text/html": "<div>\n<style scoped>\n    .dataframe tbody tr th:only-of-type {\n        vertical-align: middle;\n    }\n\n    .dataframe tbody tr th {\n        vertical-align: top;\n    }\n\n    .dataframe thead th {\n        text-align: right;\n    }\n</style>\n<table border=\"1\" class=\"dataframe\">\n  <thead>\n    <tr style=\"text-align: right;\">\n      <th></th>\n      <th>Height [cm]</th>\n      <th>Weight [Kg]</th>\n    </tr>\n  </thead>\n  <tbody>\n    <tr>\n      <th>0</th>\n      <td>203</td>\n      <td>441</td>\n    </tr>\n    <tr>\n      <th>1</th>\n      <td>191</td>\n      <td>65</td>\n    </tr>\n    <tr>\n      <th>2</th>\n      <td>185</td>\n      <td>90</td>\n    </tr>\n    <tr>\n      <th>3</th>\n      <td>203</td>\n      <td>441</td>\n    </tr>\n    <tr>\n      <th>4</th>\n      <td>193</td>\n      <td>122</td>\n    </tr>\n  </tbody>\n</table>\n</div>"
     },
     "execution_count": 13,
     "metadata": {},
     "output_type": "execute_result"
    }
   ],
   "source": [
    "hei_wei.head()"
   ],
   "metadata": {
    "collapsed": false
   }
  },
  {
   "cell_type": "code",
   "execution_count": 14,
   "outputs": [
    {
     "data": {
      "text/plain": "  Gender               Race Alignment Hair color Eye color Skin color  \\\n0   Male              Human      good    No Hair    yellow    Unknown   \n1   Male      Icthyo Sapien      good    No Hair      blue       blue   \n2   Male            Ungaran      good    No Hair      blue        red   \n3   Male  Human / Radiation       bad    No Hair     green    Unknown   \n4   Male              Human       bad    No Hair      blue    Unknown   \n\n            Hero          Publisher  Height [cm]  Weight [Kg]  \n0         A-Bomb      Marvel Comics          203          441  \n1     Abe Sapien  Dark Horse Comics          191           65  \n2       Abin Sur          DC Comics          185           90  \n3    Abomination      Marvel Comics          203          441  \n4  Absorbing Man      Marvel Comics          193          122  ",
      "text/html": "<div>\n<style scoped>\n    .dataframe tbody tr th:only-of-type {\n        vertical-align: middle;\n    }\n\n    .dataframe tbody tr th {\n        vertical-align: top;\n    }\n\n    .dataframe thead th {\n        text-align: right;\n    }\n</style>\n<table border=\"1\" class=\"dataframe\">\n  <thead>\n    <tr style=\"text-align: right;\">\n      <th></th>\n      <th>Gender</th>\n      <th>Race</th>\n      <th>Alignment</th>\n      <th>Hair color</th>\n      <th>Eye color</th>\n      <th>Skin color</th>\n      <th>Hero</th>\n      <th>Publisher</th>\n      <th>Height [cm]</th>\n      <th>Weight [Kg]</th>\n    </tr>\n  </thead>\n  <tbody>\n    <tr>\n      <th>0</th>\n      <td>Male</td>\n      <td>Human</td>\n      <td>good</td>\n      <td>No Hair</td>\n      <td>yellow</td>\n      <td>Unknown</td>\n      <td>A-Bomb</td>\n      <td>Marvel Comics</td>\n      <td>203</td>\n      <td>441</td>\n    </tr>\n    <tr>\n      <th>1</th>\n      <td>Male</td>\n      <td>Icthyo Sapien</td>\n      <td>good</td>\n      <td>No Hair</td>\n      <td>blue</td>\n      <td>blue</td>\n      <td>Abe Sapien</td>\n      <td>Dark Horse Comics</td>\n      <td>191</td>\n      <td>65</td>\n    </tr>\n    <tr>\n      <th>2</th>\n      <td>Male</td>\n      <td>Ungaran</td>\n      <td>good</td>\n      <td>No Hair</td>\n      <td>blue</td>\n      <td>red</td>\n      <td>Abin Sur</td>\n      <td>DC Comics</td>\n      <td>185</td>\n      <td>90</td>\n    </tr>\n    <tr>\n      <th>3</th>\n      <td>Male</td>\n      <td>Human / Radiation</td>\n      <td>bad</td>\n      <td>No Hair</td>\n      <td>green</td>\n      <td>Unknown</td>\n      <td>Abomination</td>\n      <td>Marvel Comics</td>\n      <td>203</td>\n      <td>441</td>\n    </tr>\n    <tr>\n      <th>4</th>\n      <td>Male</td>\n      <td>Human</td>\n      <td>bad</td>\n      <td>No Hair</td>\n      <td>blue</td>\n      <td>Unknown</td>\n      <td>Absorbing Man</td>\n      <td>Marvel Comics</td>\n      <td>193</td>\n      <td>122</td>\n    </tr>\n  </tbody>\n</table>\n</div>"
     },
     "execution_count": 14,
     "metadata": {},
     "output_type": "execute_result"
    }
   ],
   "source": [
    "## Join both dataframe to one\n",
    "sh_info = pd.concat((sh_info, hei_wei), axis=1)\n",
    "sh_info.drop(columns='Measurements', inplace=True)\n",
    "sh_info.head()"
   ],
   "metadata": {
    "collapsed": false
   }
  },
  {
   "cell_type": "markdown",
   "source": [
    "### Organizing columns"
   ],
   "metadata": {
    "collapsed": false
   }
  },
  {
   "cell_type": "code",
   "execution_count": 15,
   "outputs": [
    {
     "data": {
      "text/plain": "            Hero          Publisher Gender Eye color               Race  \\\n0         A-Bomb      Marvel Comics   Male    yellow              Human   \n1     Abe Sapien  Dark Horse Comics   Male      blue      Icthyo Sapien   \n2       Abin Sur          DC Comics   Male      blue            Ungaran   \n3    Abomination      Marvel Comics   Male     green  Human / Radiation   \n4  Absorbing Man      Marvel Comics   Male      blue              Human   \n\n  Hair color  Height [cm] Skin color Alignment  Weight [Kg]  \n0    No Hair          203    Unknown      good          441  \n1    No Hair          191       blue      good           65  \n2    No Hair          185        red      good           90  \n3    No Hair          203    Unknown       bad          441  \n4    No Hair          193    Unknown       bad          122  ",
      "text/html": "<div>\n<style scoped>\n    .dataframe tbody tr th:only-of-type {\n        vertical-align: middle;\n    }\n\n    .dataframe tbody tr th {\n        vertical-align: top;\n    }\n\n    .dataframe thead th {\n        text-align: right;\n    }\n</style>\n<table border=\"1\" class=\"dataframe\">\n  <thead>\n    <tr style=\"text-align: right;\">\n      <th></th>\n      <th>Hero</th>\n      <th>Publisher</th>\n      <th>Gender</th>\n      <th>Eye color</th>\n      <th>Race</th>\n      <th>Hair color</th>\n      <th>Height [cm]</th>\n      <th>Skin color</th>\n      <th>Alignment</th>\n      <th>Weight [Kg]</th>\n    </tr>\n  </thead>\n  <tbody>\n    <tr>\n      <th>0</th>\n      <td>A-Bomb</td>\n      <td>Marvel Comics</td>\n      <td>Male</td>\n      <td>yellow</td>\n      <td>Human</td>\n      <td>No Hair</td>\n      <td>203</td>\n      <td>Unknown</td>\n      <td>good</td>\n      <td>441</td>\n    </tr>\n    <tr>\n      <th>1</th>\n      <td>Abe Sapien</td>\n      <td>Dark Horse Comics</td>\n      <td>Male</td>\n      <td>blue</td>\n      <td>Icthyo Sapien</td>\n      <td>No Hair</td>\n      <td>191</td>\n      <td>blue</td>\n      <td>good</td>\n      <td>65</td>\n    </tr>\n    <tr>\n      <th>2</th>\n      <td>Abin Sur</td>\n      <td>DC Comics</td>\n      <td>Male</td>\n      <td>blue</td>\n      <td>Ungaran</td>\n      <td>No Hair</td>\n      <td>185</td>\n      <td>red</td>\n      <td>good</td>\n      <td>90</td>\n    </tr>\n    <tr>\n      <th>3</th>\n      <td>Abomination</td>\n      <td>Marvel Comics</td>\n      <td>Male</td>\n      <td>green</td>\n      <td>Human / Radiation</td>\n      <td>No Hair</td>\n      <td>203</td>\n      <td>Unknown</td>\n      <td>bad</td>\n      <td>441</td>\n    </tr>\n    <tr>\n      <th>4</th>\n      <td>Absorbing Man</td>\n      <td>Marvel Comics</td>\n      <td>Male</td>\n      <td>blue</td>\n      <td>Human</td>\n      <td>No Hair</td>\n      <td>193</td>\n      <td>Unknown</td>\n      <td>bad</td>\n      <td>122</td>\n    </tr>\n  </tbody>\n</table>\n</div>"
     },
     "execution_count": 15,
     "metadata": {},
     "output_type": "execute_result"
    }
   ],
   "source": [
    "sh_info = sh_info[['Hero', 'Publisher', 'Gender', 'Eye color', 'Race', 'Hair color', 'Height [cm]', 'Skin color', 'Alignment', 'Weight [Kg]']]\n",
    "\n",
    "sh_info.head()"
   ],
   "metadata": {
    "collapsed": false
   }
  },
  {
   "cell_type": "markdown",
   "source": [
    "### OneHotEncoding Superpowers"
   ],
   "metadata": {
    "collapsed": false
   }
  },
  {
   "cell_type": "code",
   "execution_count": 16,
   "outputs": [
    {
     "data": {
      "text/plain": "    hero_names                                             Powers\n0      3-D Man         Agility,Super Strength,Stamina,Super Speed\n1       A-Bomb  Accelerated Healing,Durability,Longevity,Super...\n2   Abe Sapien  Agility,Accelerated Healing,Cold Resistance,Du...\n3     Abin Sur                                 Lantern Power Ring\n4  Abomination  Accelerated Healing,Intelligence,Super Strengt...",
      "text/html": "<div>\n<style scoped>\n    .dataframe tbody tr th:only-of-type {\n        vertical-align: middle;\n    }\n\n    .dataframe tbody tr th {\n        vertical-align: top;\n    }\n\n    .dataframe thead th {\n        text-align: right;\n    }\n</style>\n<table border=\"1\" class=\"dataframe\">\n  <thead>\n    <tr style=\"text-align: right;\">\n      <th></th>\n      <th>hero_names</th>\n      <th>Powers</th>\n    </tr>\n  </thead>\n  <tbody>\n    <tr>\n      <th>0</th>\n      <td>3-D Man</td>\n      <td>Agility,Super Strength,Stamina,Super Speed</td>\n    </tr>\n    <tr>\n      <th>1</th>\n      <td>A-Bomb</td>\n      <td>Accelerated Healing,Durability,Longevity,Super...</td>\n    </tr>\n    <tr>\n      <th>2</th>\n      <td>Abe Sapien</td>\n      <td>Agility,Accelerated Healing,Cold Resistance,Du...</td>\n    </tr>\n    <tr>\n      <th>3</th>\n      <td>Abin Sur</td>\n      <td>Lantern Power Ring</td>\n    </tr>\n    <tr>\n      <th>4</th>\n      <td>Abomination</td>\n      <td>Accelerated Healing,Intelligence,Super Strengt...</td>\n    </tr>\n  </tbody>\n</table>\n</div>"
     },
     "execution_count": 16,
     "metadata": {},
     "output_type": "execute_result"
    }
   ],
   "source": [
    "## display superpowers dataframe\n",
    "sh_powers.head()"
   ],
   "metadata": {
    "collapsed": false
   }
  },
  {
   "cell_type": "code",
   "execution_count": 17,
   "outputs": [
    {
     "data": {
      "text/plain": "    hero_names                                             Powers  \\\n0      3-D Man         Agility,Super Strength,Stamina,Super Speed   \n1       A-Bomb  Accelerated Healing,Durability,Longevity,Super...   \n2   Abe Sapien  Agility,Accelerated Healing,Cold Resistance,Du...   \n3     Abin Sur                                 Lantern Power Ring   \n4  Abomination  Accelerated Healing,Intelligence,Super Strengt...   \n\n                                           Pwr_split  \n0    [Agility, Super Strength, Stamina, Super Speed]  \n1  [Accelerated Healing, Durability, Longevity, S...  \n2  [Agility, Accelerated Healing, Cold Resistance...  \n3                               [Lantern Power Ring]  \n4  [Accelerated Healing, Intelligence, Super Stre...  ",
      "text/html": "<div>\n<style scoped>\n    .dataframe tbody tr th:only-of-type {\n        vertical-align: middle;\n    }\n\n    .dataframe tbody tr th {\n        vertical-align: top;\n    }\n\n    .dataframe thead th {\n        text-align: right;\n    }\n</style>\n<table border=\"1\" class=\"dataframe\">\n  <thead>\n    <tr style=\"text-align: right;\">\n      <th></th>\n      <th>hero_names</th>\n      <th>Powers</th>\n      <th>Pwr_split</th>\n    </tr>\n  </thead>\n  <tbody>\n    <tr>\n      <th>0</th>\n      <td>3-D Man</td>\n      <td>Agility,Super Strength,Stamina,Super Speed</td>\n      <td>[Agility, Super Strength, Stamina, Super Speed]</td>\n    </tr>\n    <tr>\n      <th>1</th>\n      <td>A-Bomb</td>\n      <td>Accelerated Healing,Durability,Longevity,Super...</td>\n      <td>[Accelerated Healing, Durability, Longevity, S...</td>\n    </tr>\n    <tr>\n      <th>2</th>\n      <td>Abe Sapien</td>\n      <td>Agility,Accelerated Healing,Cold Resistance,Du...</td>\n      <td>[Agility, Accelerated Healing, Cold Resistance...</td>\n    </tr>\n    <tr>\n      <th>3</th>\n      <td>Abin Sur</td>\n      <td>Lantern Power Ring</td>\n      <td>[Lantern Power Ring]</td>\n    </tr>\n    <tr>\n      <th>4</th>\n      <td>Abomination</td>\n      <td>Accelerated Healing,Intelligence,Super Strengt...</td>\n      <td>[Accelerated Healing, Intelligence, Super Stre...</td>\n    </tr>\n  </tbody>\n</table>\n</div>"
     },
     "execution_count": 17,
     "metadata": {},
     "output_type": "execute_result"
    }
   ],
   "source": [
    "## Transforming string into list\n",
    "sh_powers['Pwr_split'] = sh_powers['Powers']\n",
    "sh_powers['Pwr_split'] = sh_powers['Pwr_split'].str.split(',')\n",
    "sh_powers.head()"
   ],
   "metadata": {
    "collapsed": false
   }
  },
  {
   "cell_type": "code",
   "execution_count": 18,
   "outputs": [
    {
     "data": {
      "text/plain": "    hero_names                                             Powers  \\\n0      3-D Man         Agility,Super Strength,Stamina,Super Speed   \n0      3-D Man         Agility,Super Strength,Stamina,Super Speed   \n0      3-D Man         Agility,Super Strength,Stamina,Super Speed   \n0      3-D Man         Agility,Super Strength,Stamina,Super Speed   \n1       A-Bomb  Accelerated Healing,Durability,Longevity,Super...   \n..         ...                                                ...   \n665    Zatanna  Cryokinesis,Telepathy,Magic,Fire Control,Proba...   \n666       Zoom  Super Speed,Intangibility,Time Travel,Time Man...   \n666       Zoom  Super Speed,Intangibility,Time Travel,Time Man...   \n666       Zoom  Super Speed,Intangibility,Time Travel,Time Man...   \n666       Zoom  Super Speed,Intangibility,Time Travel,Time Man...   \n\n               Pwr_split  \n0                Agility  \n0         Super Strength  \n0                Stamina  \n0            Super Speed  \n1    Accelerated Healing  \n..                   ...  \n665      Weather Control  \n666          Super Speed  \n666        Intangibility  \n666          Time Travel  \n666    Time Manipulation  \n\n[5874 rows x 3 columns]",
      "text/html": "<div>\n<style scoped>\n    .dataframe tbody tr th:only-of-type {\n        vertical-align: middle;\n    }\n\n    .dataframe tbody tr th {\n        vertical-align: top;\n    }\n\n    .dataframe thead th {\n        text-align: right;\n    }\n</style>\n<table border=\"1\" class=\"dataframe\">\n  <thead>\n    <tr style=\"text-align: right;\">\n      <th></th>\n      <th>hero_names</th>\n      <th>Powers</th>\n      <th>Pwr_split</th>\n    </tr>\n  </thead>\n  <tbody>\n    <tr>\n      <th>0</th>\n      <td>3-D Man</td>\n      <td>Agility,Super Strength,Stamina,Super Speed</td>\n      <td>Agility</td>\n    </tr>\n    <tr>\n      <th>0</th>\n      <td>3-D Man</td>\n      <td>Agility,Super Strength,Stamina,Super Speed</td>\n      <td>Super Strength</td>\n    </tr>\n    <tr>\n      <th>0</th>\n      <td>3-D Man</td>\n      <td>Agility,Super Strength,Stamina,Super Speed</td>\n      <td>Stamina</td>\n    </tr>\n    <tr>\n      <th>0</th>\n      <td>3-D Man</td>\n      <td>Agility,Super Strength,Stamina,Super Speed</td>\n      <td>Super Speed</td>\n    </tr>\n    <tr>\n      <th>1</th>\n      <td>A-Bomb</td>\n      <td>Accelerated Healing,Durability,Longevity,Super...</td>\n      <td>Accelerated Healing</td>\n    </tr>\n    <tr>\n      <th>...</th>\n      <td>...</td>\n      <td>...</td>\n      <td>...</td>\n    </tr>\n    <tr>\n      <th>665</th>\n      <td>Zatanna</td>\n      <td>Cryokinesis,Telepathy,Magic,Fire Control,Proba...</td>\n      <td>Weather Control</td>\n    </tr>\n    <tr>\n      <th>666</th>\n      <td>Zoom</td>\n      <td>Super Speed,Intangibility,Time Travel,Time Man...</td>\n      <td>Super Speed</td>\n    </tr>\n    <tr>\n      <th>666</th>\n      <td>Zoom</td>\n      <td>Super Speed,Intangibility,Time Travel,Time Man...</td>\n      <td>Intangibility</td>\n    </tr>\n    <tr>\n      <th>666</th>\n      <td>Zoom</td>\n      <td>Super Speed,Intangibility,Time Travel,Time Man...</td>\n      <td>Time Travel</td>\n    </tr>\n    <tr>\n      <th>666</th>\n      <td>Zoom</td>\n      <td>Super Speed,Intangibility,Time Travel,Time Man...</td>\n      <td>Time Manipulation</td>\n    </tr>\n  </tbody>\n</table>\n<p>5874 rows × 3 columns</p>\n</div>"
     },
     "execution_count": 18,
     "metadata": {},
     "output_type": "execute_result"
    }
   ],
   "source": [
    "## explode columns\n",
    "exploded = sh_powers.explode('Pwr_split')\n",
    "exploded"
   ],
   "metadata": {
    "collapsed": false
   }
  },
  {
   "cell_type": "code",
   "execution_count": 19,
   "outputs": [
    {
     "data": {
      "text/plain": "array(['Agility', 'Super Strength', 'Stamina', 'Super Speed',\n       'Accelerated Healing', 'Durability', 'Longevity', 'Camouflage',\n       'Self-Sustenance', 'Cold Resistance', 'Underwater breathing',\n       'Marksmanship', 'Weapons Master', 'Intelligence', 'Telepathy',\n       'Immortality', 'Reflexes', 'Enhanced Sight', 'Sub-Mariner',\n       'Lantern Power Ring', 'Invulnerability', 'Animation',\n       'Super Breath', 'Dimensional Awareness', 'Flight', 'Size Changing',\n       'Teleportation', 'Magic', 'Dimensional Travel',\n       'Molecular Manipulation', 'Energy Manipulation', 'Power Cosmic',\n       'Energy Absorption', 'Elemental Transmogrification',\n       'Fire Resistance', 'Natural Armor', 'Heat Resistance',\n       'Matter Absorption', 'Regeneration', 'Stealth', 'Power Suit',\n       'Energy Blasts', 'Energy Beams', 'Heat Generation', 'Danger Sense',\n       'Phasing', 'Force Fields', 'Hypnokinesis', 'Invisibility',\n       'Enhanced Senses', 'Jump', 'Shapeshifting', 'Elasticity',\n       'Substance Secretion', 'Enhanced Hearing', 'Adaptation', 'Gliding',\n       'Natural Weapons', 'Wallcrawling', 'Vision - Thermal',\n       'Power Augmentation', 'Cryokinesis', 'Duplication',\n       'Weapon-based Powers', 'Fire Control', 'Enhanced Memory',\n       'Energy Constructs', 'Power Absorption', 'Time Travel',\n       'Enhanced Smell', 'Water Control', 'Vision - Telescopic',\n       'Magnetism', 'Vision - Microscopic', 'Vision - Night',\n       'Vision - Heat', 'Vision - X-Ray', 'Psionic Powers',\n       'Toxin and Disease Resistance', 'Animal Attributes',\n       'Animal Oriented Powers', 'Toxin and Disease Control', 'Empathy',\n       'Animal Control', 'Darkforce Manipulation', 'Time Manipulation',\n       'Reality Warping', 'Web Creation', 'Symbiote Costume',\n       'Telekinesis', 'Levitation', 'Biokinesis', 'Sonar',\n       'Enhanced Touch', 'Seismic Power', 'Energy Armor',\n       'Omnilingualism', 'Radiation Immunity', 'Density Control',\n       'Light Control', 'Illumination', 'Molecular Combustion',\n       'Astral Travel', 'Precognition', 'Intangibility', 'Illusions',\n       'Audio Control', 'Sonic Scream', 'Peak Human Condition',\n       'Vision - Infrared', 'Dexterity', 'Omnitrix', 'Omnipotent',\n       'Possession', 'Energy Resistance', 'Vision - Cryo', 'Mind Control',\n       'Mind Blast', 'Clairvoyance', 'Probability Manipulation',\n       'Death Touch', 'Electrokinesis', 'Gravity Control',\n       'Technopath/Cyberpath', 'Radar Sense', 'Astral Projection',\n       'Cloaking', 'Telepathy Resistance', 'Mind Control Resistance',\n       'Hyperkinesis', 'Spatial Awareness', 'Radiation Control',\n       'Radiation Absorption', 'Magic Resistance', 'Element Control',\n       'Plant Control', 'Terrakinesis', 'Power Sense', 'Wind Control',\n       'Qwardian Power Ring', 'Echolocation', 'Resurrection', 'The Force',\n       'Summoning', 'Banish', 'Molecular Dissipation',\n       'Electrical Transport', 'Speed Force', 'Grim Reaping',\n       'Portal Creation', 'Vitakinesis', 'Projection', 'Insanity',\n       'Photographic Reflexes', 'Anti-Gravity', 'Thirstokinesis',\n       'Power Nullifier', 'Weather Control', 'Omnipresent', 'Omniscient',\n       'Hair Manipulation', 'Nova Force', 'Odin Force', 'Phoenix Force',\n       'Intuitive aptitude', 'Melting', 'Changing Armor'], dtype=object)"
     },
     "execution_count": 19,
     "metadata": {},
     "output_type": "execute_result"
    }
   ],
   "source": [
    "cols_to_make = exploded['Pwr_split'].dropna().unique()\n",
    "cols_to_make"
   ],
   "metadata": {
    "collapsed": false
   }
  },
  {
   "cell_type": "code",
   "execution_count": 20,
   "outputs": [
    {
     "name": "stderr",
     "output_type": "stream",
     "text": [
      "C:\\Users\\diazi\\AppData\\Local\\Temp\\ipykernel_112244\\3625071038.py:3: PerformanceWarning: DataFrame is highly fragmented.  This is usually the result of calling `frame.insert` many times, which has poor performance.  Consider joining all columns at once using pd.concat(axis=1) instead. To get a de-fragmented frame, use `newframe = frame.copy()`\n",
      "  sh_powers[col] = sh_powers['Powers'].str.contains(col)\n",
      "C:\\Users\\diazi\\AppData\\Local\\Temp\\ipykernel_112244\\3625071038.py:3: PerformanceWarning: DataFrame is highly fragmented.  This is usually the result of calling `frame.insert` many times, which has poor performance.  Consider joining all columns at once using pd.concat(axis=1) instead. To get a de-fragmented frame, use `newframe = frame.copy()`\n",
      "  sh_powers[col] = sh_powers['Powers'].str.contains(col)\n",
      "C:\\Users\\diazi\\AppData\\Local\\Temp\\ipykernel_112244\\3625071038.py:3: PerformanceWarning: DataFrame is highly fragmented.  This is usually the result of calling `frame.insert` many times, which has poor performance.  Consider joining all columns at once using pd.concat(axis=1) instead. To get a de-fragmented frame, use `newframe = frame.copy()`\n",
      "  sh_powers[col] = sh_powers['Powers'].str.contains(col)\n",
      "C:\\Users\\diazi\\AppData\\Local\\Temp\\ipykernel_112244\\3625071038.py:3: PerformanceWarning: DataFrame is highly fragmented.  This is usually the result of calling `frame.insert` many times, which has poor performance.  Consider joining all columns at once using pd.concat(axis=1) instead. To get a de-fragmented frame, use `newframe = frame.copy()`\n",
      "  sh_powers[col] = sh_powers['Powers'].str.contains(col)\n",
      "C:\\Users\\diazi\\AppData\\Local\\Temp\\ipykernel_112244\\3625071038.py:3: PerformanceWarning: DataFrame is highly fragmented.  This is usually the result of calling `frame.insert` many times, which has poor performance.  Consider joining all columns at once using pd.concat(axis=1) instead. To get a de-fragmented frame, use `newframe = frame.copy()`\n",
      "  sh_powers[col] = sh_powers['Powers'].str.contains(col)\n",
      "C:\\Users\\diazi\\AppData\\Local\\Temp\\ipykernel_112244\\3625071038.py:3: PerformanceWarning: DataFrame is highly fragmented.  This is usually the result of calling `frame.insert` many times, which has poor performance.  Consider joining all columns at once using pd.concat(axis=1) instead. To get a de-fragmented frame, use `newframe = frame.copy()`\n",
      "  sh_powers[col] = sh_powers['Powers'].str.contains(col)\n",
      "C:\\Users\\diazi\\AppData\\Local\\Temp\\ipykernel_112244\\3625071038.py:3: PerformanceWarning: DataFrame is highly fragmented.  This is usually the result of calling `frame.insert` many times, which has poor performance.  Consider joining all columns at once using pd.concat(axis=1) instead. To get a de-fragmented frame, use `newframe = frame.copy()`\n",
      "  sh_powers[col] = sh_powers['Powers'].str.contains(col)\n",
      "C:\\Users\\diazi\\AppData\\Local\\Temp\\ipykernel_112244\\3625071038.py:3: PerformanceWarning: DataFrame is highly fragmented.  This is usually the result of calling `frame.insert` many times, which has poor performance.  Consider joining all columns at once using pd.concat(axis=1) instead. To get a de-fragmented frame, use `newframe = frame.copy()`\n",
      "  sh_powers[col] = sh_powers['Powers'].str.contains(col)\n",
      "C:\\Users\\diazi\\AppData\\Local\\Temp\\ipykernel_112244\\3625071038.py:3: PerformanceWarning: DataFrame is highly fragmented.  This is usually the result of calling `frame.insert` many times, which has poor performance.  Consider joining all columns at once using pd.concat(axis=1) instead. To get a de-fragmented frame, use `newframe = frame.copy()`\n",
      "  sh_powers[col] = sh_powers['Powers'].str.contains(col)\n",
      "C:\\Users\\diazi\\AppData\\Local\\Temp\\ipykernel_112244\\3625071038.py:3: PerformanceWarning: DataFrame is highly fragmented.  This is usually the result of calling `frame.insert` many times, which has poor performance.  Consider joining all columns at once using pd.concat(axis=1) instead. To get a de-fragmented frame, use `newframe = frame.copy()`\n",
      "  sh_powers[col] = sh_powers['Powers'].str.contains(col)\n",
      "C:\\Users\\diazi\\AppData\\Local\\Temp\\ipykernel_112244\\3625071038.py:3: PerformanceWarning: DataFrame is highly fragmented.  This is usually the result of calling `frame.insert` many times, which has poor performance.  Consider joining all columns at once using pd.concat(axis=1) instead. To get a de-fragmented frame, use `newframe = frame.copy()`\n",
      "  sh_powers[col] = sh_powers['Powers'].str.contains(col)\n",
      "C:\\Users\\diazi\\AppData\\Local\\Temp\\ipykernel_112244\\3625071038.py:3: PerformanceWarning: DataFrame is highly fragmented.  This is usually the result of calling `frame.insert` many times, which has poor performance.  Consider joining all columns at once using pd.concat(axis=1) instead. To get a de-fragmented frame, use `newframe = frame.copy()`\n",
      "  sh_powers[col] = sh_powers['Powers'].str.contains(col)\n",
      "C:\\Users\\diazi\\AppData\\Local\\Temp\\ipykernel_112244\\3625071038.py:3: PerformanceWarning: DataFrame is highly fragmented.  This is usually the result of calling `frame.insert` many times, which has poor performance.  Consider joining all columns at once using pd.concat(axis=1) instead. To get a de-fragmented frame, use `newframe = frame.copy()`\n",
      "  sh_powers[col] = sh_powers['Powers'].str.contains(col)\n",
      "C:\\Users\\diazi\\AppData\\Local\\Temp\\ipykernel_112244\\3625071038.py:3: PerformanceWarning: DataFrame is highly fragmented.  This is usually the result of calling `frame.insert` many times, which has poor performance.  Consider joining all columns at once using pd.concat(axis=1) instead. To get a de-fragmented frame, use `newframe = frame.copy()`\n",
      "  sh_powers[col] = sh_powers['Powers'].str.contains(col)\n",
      "C:\\Users\\diazi\\AppData\\Local\\Temp\\ipykernel_112244\\3625071038.py:3: PerformanceWarning: DataFrame is highly fragmented.  This is usually the result of calling `frame.insert` many times, which has poor performance.  Consider joining all columns at once using pd.concat(axis=1) instead. To get a de-fragmented frame, use `newframe = frame.copy()`\n",
      "  sh_powers[col] = sh_powers['Powers'].str.contains(col)\n",
      "C:\\Users\\diazi\\AppData\\Local\\Temp\\ipykernel_112244\\3625071038.py:3: PerformanceWarning: DataFrame is highly fragmented.  This is usually the result of calling `frame.insert` many times, which has poor performance.  Consider joining all columns at once using pd.concat(axis=1) instead. To get a de-fragmented frame, use `newframe = frame.copy()`\n",
      "  sh_powers[col] = sh_powers['Powers'].str.contains(col)\n",
      "C:\\Users\\diazi\\AppData\\Local\\Temp\\ipykernel_112244\\3625071038.py:3: PerformanceWarning: DataFrame is highly fragmented.  This is usually the result of calling `frame.insert` many times, which has poor performance.  Consider joining all columns at once using pd.concat(axis=1) instead. To get a de-fragmented frame, use `newframe = frame.copy()`\n",
      "  sh_powers[col] = sh_powers['Powers'].str.contains(col)\n",
      "C:\\Users\\diazi\\AppData\\Local\\Temp\\ipykernel_112244\\3625071038.py:3: PerformanceWarning: DataFrame is highly fragmented.  This is usually the result of calling `frame.insert` many times, which has poor performance.  Consider joining all columns at once using pd.concat(axis=1) instead. To get a de-fragmented frame, use `newframe = frame.copy()`\n",
      "  sh_powers[col] = sh_powers['Powers'].str.contains(col)\n",
      "C:\\Users\\diazi\\AppData\\Local\\Temp\\ipykernel_112244\\3625071038.py:3: PerformanceWarning: DataFrame is highly fragmented.  This is usually the result of calling `frame.insert` many times, which has poor performance.  Consider joining all columns at once using pd.concat(axis=1) instead. To get a de-fragmented frame, use `newframe = frame.copy()`\n",
      "  sh_powers[col] = sh_powers['Powers'].str.contains(col)\n",
      "C:\\Users\\diazi\\AppData\\Local\\Temp\\ipykernel_112244\\3625071038.py:3: PerformanceWarning: DataFrame is highly fragmented.  This is usually the result of calling `frame.insert` many times, which has poor performance.  Consider joining all columns at once using pd.concat(axis=1) instead. To get a de-fragmented frame, use `newframe = frame.copy()`\n",
      "  sh_powers[col] = sh_powers['Powers'].str.contains(col)\n",
      "C:\\Users\\diazi\\AppData\\Local\\Temp\\ipykernel_112244\\3625071038.py:3: PerformanceWarning: DataFrame is highly fragmented.  This is usually the result of calling `frame.insert` many times, which has poor performance.  Consider joining all columns at once using pd.concat(axis=1) instead. To get a de-fragmented frame, use `newframe = frame.copy()`\n",
      "  sh_powers[col] = sh_powers['Powers'].str.contains(col)\n",
      "C:\\Users\\diazi\\AppData\\Local\\Temp\\ipykernel_112244\\3625071038.py:3: PerformanceWarning: DataFrame is highly fragmented.  This is usually the result of calling `frame.insert` many times, which has poor performance.  Consider joining all columns at once using pd.concat(axis=1) instead. To get a de-fragmented frame, use `newframe = frame.copy()`\n",
      "  sh_powers[col] = sh_powers['Powers'].str.contains(col)\n",
      "C:\\Users\\diazi\\AppData\\Local\\Temp\\ipykernel_112244\\3625071038.py:3: PerformanceWarning: DataFrame is highly fragmented.  This is usually the result of calling `frame.insert` many times, which has poor performance.  Consider joining all columns at once using pd.concat(axis=1) instead. To get a de-fragmented frame, use `newframe = frame.copy()`\n",
      "  sh_powers[col] = sh_powers['Powers'].str.contains(col)\n",
      "C:\\Users\\diazi\\AppData\\Local\\Temp\\ipykernel_112244\\3625071038.py:3: PerformanceWarning: DataFrame is highly fragmented.  This is usually the result of calling `frame.insert` many times, which has poor performance.  Consider joining all columns at once using pd.concat(axis=1) instead. To get a de-fragmented frame, use `newframe = frame.copy()`\n",
      "  sh_powers[col] = sh_powers['Powers'].str.contains(col)\n",
      "C:\\Users\\diazi\\AppData\\Local\\Temp\\ipykernel_112244\\3625071038.py:3: PerformanceWarning: DataFrame is highly fragmented.  This is usually the result of calling `frame.insert` many times, which has poor performance.  Consider joining all columns at once using pd.concat(axis=1) instead. To get a de-fragmented frame, use `newframe = frame.copy()`\n",
      "  sh_powers[col] = sh_powers['Powers'].str.contains(col)\n",
      "C:\\Users\\diazi\\AppData\\Local\\Temp\\ipykernel_112244\\3625071038.py:3: PerformanceWarning: DataFrame is highly fragmented.  This is usually the result of calling `frame.insert` many times, which has poor performance.  Consider joining all columns at once using pd.concat(axis=1) instead. To get a de-fragmented frame, use `newframe = frame.copy()`\n",
      "  sh_powers[col] = sh_powers['Powers'].str.contains(col)\n",
      "C:\\Users\\diazi\\AppData\\Local\\Temp\\ipykernel_112244\\3625071038.py:3: PerformanceWarning: DataFrame is highly fragmented.  This is usually the result of calling `frame.insert` many times, which has poor performance.  Consider joining all columns at once using pd.concat(axis=1) instead. To get a de-fragmented frame, use `newframe = frame.copy()`\n",
      "  sh_powers[col] = sh_powers['Powers'].str.contains(col)\n",
      "C:\\Users\\diazi\\AppData\\Local\\Temp\\ipykernel_112244\\3625071038.py:3: PerformanceWarning: DataFrame is highly fragmented.  This is usually the result of calling `frame.insert` many times, which has poor performance.  Consider joining all columns at once using pd.concat(axis=1) instead. To get a de-fragmented frame, use `newframe = frame.copy()`\n",
      "  sh_powers[col] = sh_powers['Powers'].str.contains(col)\n",
      "C:\\Users\\diazi\\AppData\\Local\\Temp\\ipykernel_112244\\3625071038.py:3: PerformanceWarning: DataFrame is highly fragmented.  This is usually the result of calling `frame.insert` many times, which has poor performance.  Consider joining all columns at once using pd.concat(axis=1) instead. To get a de-fragmented frame, use `newframe = frame.copy()`\n",
      "  sh_powers[col] = sh_powers['Powers'].str.contains(col)\n",
      "C:\\Users\\diazi\\AppData\\Local\\Temp\\ipykernel_112244\\3625071038.py:3: PerformanceWarning: DataFrame is highly fragmented.  This is usually the result of calling `frame.insert` many times, which has poor performance.  Consider joining all columns at once using pd.concat(axis=1) instead. To get a de-fragmented frame, use `newframe = frame.copy()`\n",
      "  sh_powers[col] = sh_powers['Powers'].str.contains(col)\n",
      "C:\\Users\\diazi\\AppData\\Local\\Temp\\ipykernel_112244\\3625071038.py:3: PerformanceWarning: DataFrame is highly fragmented.  This is usually the result of calling `frame.insert` many times, which has poor performance.  Consider joining all columns at once using pd.concat(axis=1) instead. To get a de-fragmented frame, use `newframe = frame.copy()`\n",
      "  sh_powers[col] = sh_powers['Powers'].str.contains(col)\n",
      "C:\\Users\\diazi\\AppData\\Local\\Temp\\ipykernel_112244\\3625071038.py:3: PerformanceWarning: DataFrame is highly fragmented.  This is usually the result of calling `frame.insert` many times, which has poor performance.  Consider joining all columns at once using pd.concat(axis=1) instead. To get a de-fragmented frame, use `newframe = frame.copy()`\n",
      "  sh_powers[col] = sh_powers['Powers'].str.contains(col)\n",
      "C:\\Users\\diazi\\AppData\\Local\\Temp\\ipykernel_112244\\3625071038.py:3: PerformanceWarning: DataFrame is highly fragmented.  This is usually the result of calling `frame.insert` many times, which has poor performance.  Consider joining all columns at once using pd.concat(axis=1) instead. To get a de-fragmented frame, use `newframe = frame.copy()`\n",
      "  sh_powers[col] = sh_powers['Powers'].str.contains(col)\n",
      "C:\\Users\\diazi\\AppData\\Local\\Temp\\ipykernel_112244\\3625071038.py:3: PerformanceWarning: DataFrame is highly fragmented.  This is usually the result of calling `frame.insert` many times, which has poor performance.  Consider joining all columns at once using pd.concat(axis=1) instead. To get a de-fragmented frame, use `newframe = frame.copy()`\n",
      "  sh_powers[col] = sh_powers['Powers'].str.contains(col)\n",
      "C:\\Users\\diazi\\AppData\\Local\\Temp\\ipykernel_112244\\3625071038.py:3: PerformanceWarning: DataFrame is highly fragmented.  This is usually the result of calling `frame.insert` many times, which has poor performance.  Consider joining all columns at once using pd.concat(axis=1) instead. To get a de-fragmented frame, use `newframe = frame.copy()`\n",
      "  sh_powers[col] = sh_powers['Powers'].str.contains(col)\n",
      "C:\\Users\\diazi\\AppData\\Local\\Temp\\ipykernel_112244\\3625071038.py:3: PerformanceWarning: DataFrame is highly fragmented.  This is usually the result of calling `frame.insert` many times, which has poor performance.  Consider joining all columns at once using pd.concat(axis=1) instead. To get a de-fragmented frame, use `newframe = frame.copy()`\n",
      "  sh_powers[col] = sh_powers['Powers'].str.contains(col)\n",
      "C:\\Users\\diazi\\AppData\\Local\\Temp\\ipykernel_112244\\3625071038.py:3: PerformanceWarning: DataFrame is highly fragmented.  This is usually the result of calling `frame.insert` many times, which has poor performance.  Consider joining all columns at once using pd.concat(axis=1) instead. To get a de-fragmented frame, use `newframe = frame.copy()`\n",
      "  sh_powers[col] = sh_powers['Powers'].str.contains(col)\n",
      "C:\\Users\\diazi\\AppData\\Local\\Temp\\ipykernel_112244\\3625071038.py:3: PerformanceWarning: DataFrame is highly fragmented.  This is usually the result of calling `frame.insert` many times, which has poor performance.  Consider joining all columns at once using pd.concat(axis=1) instead. To get a de-fragmented frame, use `newframe = frame.copy()`\n",
      "  sh_powers[col] = sh_powers['Powers'].str.contains(col)\n",
      "C:\\Users\\diazi\\AppData\\Local\\Temp\\ipykernel_112244\\3625071038.py:3: PerformanceWarning: DataFrame is highly fragmented.  This is usually the result of calling `frame.insert` many times, which has poor performance.  Consider joining all columns at once using pd.concat(axis=1) instead. To get a de-fragmented frame, use `newframe = frame.copy()`\n",
      "  sh_powers[col] = sh_powers['Powers'].str.contains(col)\n",
      "C:\\Users\\diazi\\AppData\\Local\\Temp\\ipykernel_112244\\3625071038.py:3: PerformanceWarning: DataFrame is highly fragmented.  This is usually the result of calling `frame.insert` many times, which has poor performance.  Consider joining all columns at once using pd.concat(axis=1) instead. To get a de-fragmented frame, use `newframe = frame.copy()`\n",
      "  sh_powers[col] = sh_powers['Powers'].str.contains(col)\n",
      "C:\\Users\\diazi\\AppData\\Local\\Temp\\ipykernel_112244\\3625071038.py:3: PerformanceWarning: DataFrame is highly fragmented.  This is usually the result of calling `frame.insert` many times, which has poor performance.  Consider joining all columns at once using pd.concat(axis=1) instead. To get a de-fragmented frame, use `newframe = frame.copy()`\n",
      "  sh_powers[col] = sh_powers['Powers'].str.contains(col)\n",
      "C:\\Users\\diazi\\AppData\\Local\\Temp\\ipykernel_112244\\3625071038.py:3: PerformanceWarning: DataFrame is highly fragmented.  This is usually the result of calling `frame.insert` many times, which has poor performance.  Consider joining all columns at once using pd.concat(axis=1) instead. To get a de-fragmented frame, use `newframe = frame.copy()`\n",
      "  sh_powers[col] = sh_powers['Powers'].str.contains(col)\n",
      "C:\\Users\\diazi\\AppData\\Local\\Temp\\ipykernel_112244\\3625071038.py:3: PerformanceWarning: DataFrame is highly fragmented.  This is usually the result of calling `frame.insert` many times, which has poor performance.  Consider joining all columns at once using pd.concat(axis=1) instead. To get a de-fragmented frame, use `newframe = frame.copy()`\n",
      "  sh_powers[col] = sh_powers['Powers'].str.contains(col)\n",
      "C:\\Users\\diazi\\AppData\\Local\\Temp\\ipykernel_112244\\3625071038.py:3: PerformanceWarning: DataFrame is highly fragmented.  This is usually the result of calling `frame.insert` many times, which has poor performance.  Consider joining all columns at once using pd.concat(axis=1) instead. To get a de-fragmented frame, use `newframe = frame.copy()`\n",
      "  sh_powers[col] = sh_powers['Powers'].str.contains(col)\n",
      "C:\\Users\\diazi\\AppData\\Local\\Temp\\ipykernel_112244\\3625071038.py:3: PerformanceWarning: DataFrame is highly fragmented.  This is usually the result of calling `frame.insert` many times, which has poor performance.  Consider joining all columns at once using pd.concat(axis=1) instead. To get a de-fragmented frame, use `newframe = frame.copy()`\n",
      "  sh_powers[col] = sh_powers['Powers'].str.contains(col)\n",
      "C:\\Users\\diazi\\AppData\\Local\\Temp\\ipykernel_112244\\3625071038.py:3: PerformanceWarning: DataFrame is highly fragmented.  This is usually the result of calling `frame.insert` many times, which has poor performance.  Consider joining all columns at once using pd.concat(axis=1) instead. To get a de-fragmented frame, use `newframe = frame.copy()`\n",
      "  sh_powers[col] = sh_powers['Powers'].str.contains(col)\n",
      "C:\\Users\\diazi\\AppData\\Local\\Temp\\ipykernel_112244\\3625071038.py:3: PerformanceWarning: DataFrame is highly fragmented.  This is usually the result of calling `frame.insert` many times, which has poor performance.  Consider joining all columns at once using pd.concat(axis=1) instead. To get a de-fragmented frame, use `newframe = frame.copy()`\n",
      "  sh_powers[col] = sh_powers['Powers'].str.contains(col)\n",
      "C:\\Users\\diazi\\AppData\\Local\\Temp\\ipykernel_112244\\3625071038.py:3: PerformanceWarning: DataFrame is highly fragmented.  This is usually the result of calling `frame.insert` many times, which has poor performance.  Consider joining all columns at once using pd.concat(axis=1) instead. To get a de-fragmented frame, use `newframe = frame.copy()`\n",
      "  sh_powers[col] = sh_powers['Powers'].str.contains(col)\n",
      "C:\\Users\\diazi\\AppData\\Local\\Temp\\ipykernel_112244\\3625071038.py:3: PerformanceWarning: DataFrame is highly fragmented.  This is usually the result of calling `frame.insert` many times, which has poor performance.  Consider joining all columns at once using pd.concat(axis=1) instead. To get a de-fragmented frame, use `newframe = frame.copy()`\n",
      "  sh_powers[col] = sh_powers['Powers'].str.contains(col)\n",
      "C:\\Users\\diazi\\AppData\\Local\\Temp\\ipykernel_112244\\3625071038.py:3: PerformanceWarning: DataFrame is highly fragmented.  This is usually the result of calling `frame.insert` many times, which has poor performance.  Consider joining all columns at once using pd.concat(axis=1) instead. To get a de-fragmented frame, use `newframe = frame.copy()`\n",
      "  sh_powers[col] = sh_powers['Powers'].str.contains(col)\n",
      "C:\\Users\\diazi\\AppData\\Local\\Temp\\ipykernel_112244\\3625071038.py:3: PerformanceWarning: DataFrame is highly fragmented.  This is usually the result of calling `frame.insert` many times, which has poor performance.  Consider joining all columns at once using pd.concat(axis=1) instead. To get a de-fragmented frame, use `newframe = frame.copy()`\n",
      "  sh_powers[col] = sh_powers['Powers'].str.contains(col)\n",
      "C:\\Users\\diazi\\AppData\\Local\\Temp\\ipykernel_112244\\3625071038.py:3: PerformanceWarning: DataFrame is highly fragmented.  This is usually the result of calling `frame.insert` many times, which has poor performance.  Consider joining all columns at once using pd.concat(axis=1) instead. To get a de-fragmented frame, use `newframe = frame.copy()`\n",
      "  sh_powers[col] = sh_powers['Powers'].str.contains(col)\n",
      "C:\\Users\\diazi\\AppData\\Local\\Temp\\ipykernel_112244\\3625071038.py:3: PerformanceWarning: DataFrame is highly fragmented.  This is usually the result of calling `frame.insert` many times, which has poor performance.  Consider joining all columns at once using pd.concat(axis=1) instead. To get a de-fragmented frame, use `newframe = frame.copy()`\n",
      "  sh_powers[col] = sh_powers['Powers'].str.contains(col)\n",
      "C:\\Users\\diazi\\AppData\\Local\\Temp\\ipykernel_112244\\3625071038.py:3: PerformanceWarning: DataFrame is highly fragmented.  This is usually the result of calling `frame.insert` many times, which has poor performance.  Consider joining all columns at once using pd.concat(axis=1) instead. To get a de-fragmented frame, use `newframe = frame.copy()`\n",
      "  sh_powers[col] = sh_powers['Powers'].str.contains(col)\n",
      "C:\\Users\\diazi\\AppData\\Local\\Temp\\ipykernel_112244\\3625071038.py:3: PerformanceWarning: DataFrame is highly fragmented.  This is usually the result of calling `frame.insert` many times, which has poor performance.  Consider joining all columns at once using pd.concat(axis=1) instead. To get a de-fragmented frame, use `newframe = frame.copy()`\n",
      "  sh_powers[col] = sh_powers['Powers'].str.contains(col)\n",
      "C:\\Users\\diazi\\AppData\\Local\\Temp\\ipykernel_112244\\3625071038.py:3: PerformanceWarning: DataFrame is highly fragmented.  This is usually the result of calling `frame.insert` many times, which has poor performance.  Consider joining all columns at once using pd.concat(axis=1) instead. To get a de-fragmented frame, use `newframe = frame.copy()`\n",
      "  sh_powers[col] = sh_powers['Powers'].str.contains(col)\n",
      "C:\\Users\\diazi\\AppData\\Local\\Temp\\ipykernel_112244\\3625071038.py:3: PerformanceWarning: DataFrame is highly fragmented.  This is usually the result of calling `frame.insert` many times, which has poor performance.  Consider joining all columns at once using pd.concat(axis=1) instead. To get a de-fragmented frame, use `newframe = frame.copy()`\n",
      "  sh_powers[col] = sh_powers['Powers'].str.contains(col)\n",
      "C:\\Users\\diazi\\AppData\\Local\\Temp\\ipykernel_112244\\3625071038.py:3: PerformanceWarning: DataFrame is highly fragmented.  This is usually the result of calling `frame.insert` many times, which has poor performance.  Consider joining all columns at once using pd.concat(axis=1) instead. To get a de-fragmented frame, use `newframe = frame.copy()`\n",
      "  sh_powers[col] = sh_powers['Powers'].str.contains(col)\n",
      "C:\\Users\\diazi\\AppData\\Local\\Temp\\ipykernel_112244\\3625071038.py:3: PerformanceWarning: DataFrame is highly fragmented.  This is usually the result of calling `frame.insert` many times, which has poor performance.  Consider joining all columns at once using pd.concat(axis=1) instead. To get a de-fragmented frame, use `newframe = frame.copy()`\n",
      "  sh_powers[col] = sh_powers['Powers'].str.contains(col)\n",
      "C:\\Users\\diazi\\AppData\\Local\\Temp\\ipykernel_112244\\3625071038.py:3: PerformanceWarning: DataFrame is highly fragmented.  This is usually the result of calling `frame.insert` many times, which has poor performance.  Consider joining all columns at once using pd.concat(axis=1) instead. To get a de-fragmented frame, use `newframe = frame.copy()`\n",
      "  sh_powers[col] = sh_powers['Powers'].str.contains(col)\n",
      "C:\\Users\\diazi\\AppData\\Local\\Temp\\ipykernel_112244\\3625071038.py:3: PerformanceWarning: DataFrame is highly fragmented.  This is usually the result of calling `frame.insert` many times, which has poor performance.  Consider joining all columns at once using pd.concat(axis=1) instead. To get a de-fragmented frame, use `newframe = frame.copy()`\n",
      "  sh_powers[col] = sh_powers['Powers'].str.contains(col)\n",
      "C:\\Users\\diazi\\AppData\\Local\\Temp\\ipykernel_112244\\3625071038.py:3: PerformanceWarning: DataFrame is highly fragmented.  This is usually the result of calling `frame.insert` many times, which has poor performance.  Consider joining all columns at once using pd.concat(axis=1) instead. To get a de-fragmented frame, use `newframe = frame.copy()`\n",
      "  sh_powers[col] = sh_powers['Powers'].str.contains(col)\n",
      "C:\\Users\\diazi\\AppData\\Local\\Temp\\ipykernel_112244\\3625071038.py:3: PerformanceWarning: DataFrame is highly fragmented.  This is usually the result of calling `frame.insert` many times, which has poor performance.  Consider joining all columns at once using pd.concat(axis=1) instead. To get a de-fragmented frame, use `newframe = frame.copy()`\n",
      "  sh_powers[col] = sh_powers['Powers'].str.contains(col)\n",
      "C:\\Users\\diazi\\AppData\\Local\\Temp\\ipykernel_112244\\3625071038.py:3: PerformanceWarning: DataFrame is highly fragmented.  This is usually the result of calling `frame.insert` many times, which has poor performance.  Consider joining all columns at once using pd.concat(axis=1) instead. To get a de-fragmented frame, use `newframe = frame.copy()`\n",
      "  sh_powers[col] = sh_powers['Powers'].str.contains(col)\n",
      "C:\\Users\\diazi\\AppData\\Local\\Temp\\ipykernel_112244\\3625071038.py:3: PerformanceWarning: DataFrame is highly fragmented.  This is usually the result of calling `frame.insert` many times, which has poor performance.  Consider joining all columns at once using pd.concat(axis=1) instead. To get a de-fragmented frame, use `newframe = frame.copy()`\n",
      "  sh_powers[col] = sh_powers['Powers'].str.contains(col)\n",
      "C:\\Users\\diazi\\AppData\\Local\\Temp\\ipykernel_112244\\3625071038.py:3: PerformanceWarning: DataFrame is highly fragmented.  This is usually the result of calling `frame.insert` many times, which has poor performance.  Consider joining all columns at once using pd.concat(axis=1) instead. To get a de-fragmented frame, use `newframe = frame.copy()`\n",
      "  sh_powers[col] = sh_powers['Powers'].str.contains(col)\n",
      "C:\\Users\\diazi\\AppData\\Local\\Temp\\ipykernel_112244\\3625071038.py:3: PerformanceWarning: DataFrame is highly fragmented.  This is usually the result of calling `frame.insert` many times, which has poor performance.  Consider joining all columns at once using pd.concat(axis=1) instead. To get a de-fragmented frame, use `newframe = frame.copy()`\n",
      "  sh_powers[col] = sh_powers['Powers'].str.contains(col)\n",
      "C:\\Users\\diazi\\AppData\\Local\\Temp\\ipykernel_112244\\3625071038.py:3: PerformanceWarning: DataFrame is highly fragmented.  This is usually the result of calling `frame.insert` many times, which has poor performance.  Consider joining all columns at once using pd.concat(axis=1) instead. To get a de-fragmented frame, use `newframe = frame.copy()`\n",
      "  sh_powers[col] = sh_powers['Powers'].str.contains(col)\n",
      "C:\\Users\\diazi\\AppData\\Local\\Temp\\ipykernel_112244\\3625071038.py:3: PerformanceWarning: DataFrame is highly fragmented.  This is usually the result of calling `frame.insert` many times, which has poor performance.  Consider joining all columns at once using pd.concat(axis=1) instead. To get a de-fragmented frame, use `newframe = frame.copy()`\n",
      "  sh_powers[col] = sh_powers['Powers'].str.contains(col)\n"
     ]
    },
    {
     "data": {
      "text/plain": "    hero_names                                             Powers  \\\n0      3-D Man         Agility,Super Strength,Stamina,Super Speed   \n1       A-Bomb  Accelerated Healing,Durability,Longevity,Super...   \n2   Abe Sapien  Agility,Accelerated Healing,Cold Resistance,Du...   \n3     Abin Sur                                 Lantern Power Ring   \n4  Abomination  Accelerated Healing,Intelligence,Super Strengt...   \n\n                                           Pwr_split  Agility  Super Strength  \\\n0    [Agility, Super Strength, Stamina, Super Speed]     True            True   \n1  [Accelerated Healing, Durability, Longevity, S...    False            True   \n2  [Agility, Accelerated Healing, Cold Resistance...     True            True   \n3                               [Lantern Power Ring]    False           False   \n4  [Accelerated Healing, Intelligence, Super Stre...    False            True   \n\n   Stamina  Super Speed  Accelerated Healing  Durability  Longevity  ...  \\\n0     True         True                False       False      False  ...   \n1     True        False                 True        True       True  ...   \n2     True        False                 True        True       True  ...   \n3    False        False                False       False      False  ...   \n4     True         True                 True       False      False  ...   \n\n   Weather Control  Omnipresent  Omniscient  Hair Manipulation  Nova Force  \\\n0            False        False       False              False       False   \n1            False        False       False              False       False   \n2            False        False       False              False       False   \n3            False        False       False              False       False   \n4            False        False       False              False       False   \n\n   Odin Force  Phoenix Force  Intuitive aptitude  Melting  Changing Armor  \n0       False          False               False    False           False  \n1       False          False               False    False           False  \n2       False          False               False    False           False  \n3       False          False               False    False           False  \n4       False          False               False    False           False  \n\n[5 rows x 170 columns]",
      "text/html": "<div>\n<style scoped>\n    .dataframe tbody tr th:only-of-type {\n        vertical-align: middle;\n    }\n\n    .dataframe tbody tr th {\n        vertical-align: top;\n    }\n\n    .dataframe thead th {\n        text-align: right;\n    }\n</style>\n<table border=\"1\" class=\"dataframe\">\n  <thead>\n    <tr style=\"text-align: right;\">\n      <th></th>\n      <th>hero_names</th>\n      <th>Powers</th>\n      <th>Pwr_split</th>\n      <th>Agility</th>\n      <th>Super Strength</th>\n      <th>Stamina</th>\n      <th>Super Speed</th>\n      <th>Accelerated Healing</th>\n      <th>Durability</th>\n      <th>Longevity</th>\n      <th>...</th>\n      <th>Weather Control</th>\n      <th>Omnipresent</th>\n      <th>Omniscient</th>\n      <th>Hair Manipulation</th>\n      <th>Nova Force</th>\n      <th>Odin Force</th>\n      <th>Phoenix Force</th>\n      <th>Intuitive aptitude</th>\n      <th>Melting</th>\n      <th>Changing Armor</th>\n    </tr>\n  </thead>\n  <tbody>\n    <tr>\n      <th>0</th>\n      <td>3-D Man</td>\n      <td>Agility,Super Strength,Stamina,Super Speed</td>\n      <td>[Agility, Super Strength, Stamina, Super Speed]</td>\n      <td>True</td>\n      <td>True</td>\n      <td>True</td>\n      <td>True</td>\n      <td>False</td>\n      <td>False</td>\n      <td>False</td>\n      <td>...</td>\n      <td>False</td>\n      <td>False</td>\n      <td>False</td>\n      <td>False</td>\n      <td>False</td>\n      <td>False</td>\n      <td>False</td>\n      <td>False</td>\n      <td>False</td>\n      <td>False</td>\n    </tr>\n    <tr>\n      <th>1</th>\n      <td>A-Bomb</td>\n      <td>Accelerated Healing,Durability,Longevity,Super...</td>\n      <td>[Accelerated Healing, Durability, Longevity, S...</td>\n      <td>False</td>\n      <td>True</td>\n      <td>True</td>\n      <td>False</td>\n      <td>True</td>\n      <td>True</td>\n      <td>True</td>\n      <td>...</td>\n      <td>False</td>\n      <td>False</td>\n      <td>False</td>\n      <td>False</td>\n      <td>False</td>\n      <td>False</td>\n      <td>False</td>\n      <td>False</td>\n      <td>False</td>\n      <td>False</td>\n    </tr>\n    <tr>\n      <th>2</th>\n      <td>Abe Sapien</td>\n      <td>Agility,Accelerated Healing,Cold Resistance,Du...</td>\n      <td>[Agility, Accelerated Healing, Cold Resistance...</td>\n      <td>True</td>\n      <td>True</td>\n      <td>True</td>\n      <td>False</td>\n      <td>True</td>\n      <td>True</td>\n      <td>True</td>\n      <td>...</td>\n      <td>False</td>\n      <td>False</td>\n      <td>False</td>\n      <td>False</td>\n      <td>False</td>\n      <td>False</td>\n      <td>False</td>\n      <td>False</td>\n      <td>False</td>\n      <td>False</td>\n    </tr>\n    <tr>\n      <th>3</th>\n      <td>Abin Sur</td>\n      <td>Lantern Power Ring</td>\n      <td>[Lantern Power Ring]</td>\n      <td>False</td>\n      <td>False</td>\n      <td>False</td>\n      <td>False</td>\n      <td>False</td>\n      <td>False</td>\n      <td>False</td>\n      <td>...</td>\n      <td>False</td>\n      <td>False</td>\n      <td>False</td>\n      <td>False</td>\n      <td>False</td>\n      <td>False</td>\n      <td>False</td>\n      <td>False</td>\n      <td>False</td>\n      <td>False</td>\n    </tr>\n    <tr>\n      <th>4</th>\n      <td>Abomination</td>\n      <td>Accelerated Healing,Intelligence,Super Strengt...</td>\n      <td>[Accelerated Healing, Intelligence, Super Stre...</td>\n      <td>False</td>\n      <td>True</td>\n      <td>True</td>\n      <td>True</td>\n      <td>True</td>\n      <td>False</td>\n      <td>False</td>\n      <td>...</td>\n      <td>False</td>\n      <td>False</td>\n      <td>False</td>\n      <td>False</td>\n      <td>False</td>\n      <td>False</td>\n      <td>False</td>\n      <td>False</td>\n      <td>False</td>\n      <td>False</td>\n    </tr>\n  </tbody>\n</table>\n<p>5 rows × 170 columns</p>\n</div>"
     },
     "execution_count": 20,
     "metadata": {},
     "output_type": "execute_result"
    }
   ],
   "source": [
    "## One Hot Encode\n",
    "for col in cols_to_make:\n",
    "    sh_powers[col] = sh_powers['Powers'].str.contains(col)\n",
    "sh_powers.head()"
   ],
   "metadata": {
    "collapsed": false
   }
  },
  {
   "cell_type": "code",
   "execution_count": 21,
   "outputs": [
    {
     "data": {
      "text/plain": "    hero_names  Agility  Super Strength  Stamina  Super Speed  \\\n0      3-D Man     True            True     True         True   \n1       A-Bomb    False            True     True        False   \n2   Abe Sapien     True            True     True        False   \n3     Abin Sur    False           False    False        False   \n4  Abomination    False            True     True         True   \n\n   Accelerated Healing  Durability  Longevity  Camouflage  Self-Sustenance  \\\n0                False       False      False       False            False   \n1                 True        True       True        True             True   \n2                 True        True       True       False            False   \n3                False       False      False       False            False   \n4                 True       False      False       False            False   \n\n   ...  Weather Control  Omnipresent  Omniscient  Hair Manipulation  \\\n0  ...            False        False       False              False   \n1  ...            False        False       False              False   \n2  ...            False        False       False              False   \n3  ...            False        False       False              False   \n4  ...            False        False       False              False   \n\n   Nova Force  Odin Force  Phoenix Force  Intuitive aptitude  Melting  \\\n0       False       False          False               False    False   \n1       False       False          False               False    False   \n2       False       False          False               False    False   \n3       False       False          False               False    False   \n4       False       False          False               False    False   \n\n   Changing Armor  \n0           False  \n1           False  \n2           False  \n3           False  \n4           False  \n\n[5 rows x 168 columns]",
      "text/html": "<div>\n<style scoped>\n    .dataframe tbody tr th:only-of-type {\n        vertical-align: middle;\n    }\n\n    .dataframe tbody tr th {\n        vertical-align: top;\n    }\n\n    .dataframe thead th {\n        text-align: right;\n    }\n</style>\n<table border=\"1\" class=\"dataframe\">\n  <thead>\n    <tr style=\"text-align: right;\">\n      <th></th>\n      <th>hero_names</th>\n      <th>Agility</th>\n      <th>Super Strength</th>\n      <th>Stamina</th>\n      <th>Super Speed</th>\n      <th>Accelerated Healing</th>\n      <th>Durability</th>\n      <th>Longevity</th>\n      <th>Camouflage</th>\n      <th>Self-Sustenance</th>\n      <th>...</th>\n      <th>Weather Control</th>\n      <th>Omnipresent</th>\n      <th>Omniscient</th>\n      <th>Hair Manipulation</th>\n      <th>Nova Force</th>\n      <th>Odin Force</th>\n      <th>Phoenix Force</th>\n      <th>Intuitive aptitude</th>\n      <th>Melting</th>\n      <th>Changing Armor</th>\n    </tr>\n  </thead>\n  <tbody>\n    <tr>\n      <th>0</th>\n      <td>3-D Man</td>\n      <td>True</td>\n      <td>True</td>\n      <td>True</td>\n      <td>True</td>\n      <td>False</td>\n      <td>False</td>\n      <td>False</td>\n      <td>False</td>\n      <td>False</td>\n      <td>...</td>\n      <td>False</td>\n      <td>False</td>\n      <td>False</td>\n      <td>False</td>\n      <td>False</td>\n      <td>False</td>\n      <td>False</td>\n      <td>False</td>\n      <td>False</td>\n      <td>False</td>\n    </tr>\n    <tr>\n      <th>1</th>\n      <td>A-Bomb</td>\n      <td>False</td>\n      <td>True</td>\n      <td>True</td>\n      <td>False</td>\n      <td>True</td>\n      <td>True</td>\n      <td>True</td>\n      <td>True</td>\n      <td>True</td>\n      <td>...</td>\n      <td>False</td>\n      <td>False</td>\n      <td>False</td>\n      <td>False</td>\n      <td>False</td>\n      <td>False</td>\n      <td>False</td>\n      <td>False</td>\n      <td>False</td>\n      <td>False</td>\n    </tr>\n    <tr>\n      <th>2</th>\n      <td>Abe Sapien</td>\n      <td>True</td>\n      <td>True</td>\n      <td>True</td>\n      <td>False</td>\n      <td>True</td>\n      <td>True</td>\n      <td>True</td>\n      <td>False</td>\n      <td>False</td>\n      <td>...</td>\n      <td>False</td>\n      <td>False</td>\n      <td>False</td>\n      <td>False</td>\n      <td>False</td>\n      <td>False</td>\n      <td>False</td>\n      <td>False</td>\n      <td>False</td>\n      <td>False</td>\n    </tr>\n    <tr>\n      <th>3</th>\n      <td>Abin Sur</td>\n      <td>False</td>\n      <td>False</td>\n      <td>False</td>\n      <td>False</td>\n      <td>False</td>\n      <td>False</td>\n      <td>False</td>\n      <td>False</td>\n      <td>False</td>\n      <td>...</td>\n      <td>False</td>\n      <td>False</td>\n      <td>False</td>\n      <td>False</td>\n      <td>False</td>\n      <td>False</td>\n      <td>False</td>\n      <td>False</td>\n      <td>False</td>\n      <td>False</td>\n    </tr>\n    <tr>\n      <th>4</th>\n      <td>Abomination</td>\n      <td>False</td>\n      <td>True</td>\n      <td>True</td>\n      <td>True</td>\n      <td>True</td>\n      <td>False</td>\n      <td>False</td>\n      <td>False</td>\n      <td>False</td>\n      <td>...</td>\n      <td>False</td>\n      <td>False</td>\n      <td>False</td>\n      <td>False</td>\n      <td>False</td>\n      <td>False</td>\n      <td>False</td>\n      <td>False</td>\n      <td>False</td>\n      <td>False</td>\n    </tr>\n  </tbody>\n</table>\n<p>5 rows × 168 columns</p>\n</div>"
     },
     "execution_count": 21,
     "metadata": {},
     "output_type": "execute_result"
    }
   ],
   "source": [
    "sh_powers.drop(columns=['Powers', 'Pwr_split'], axis=1, inplace=True)\n",
    "sh_powers.head()"
   ],
   "metadata": {
    "collapsed": false
   }
  },
  {
   "cell_type": "code",
   "execution_count": 22,
   "outputs": [
    {
     "data": {
      "text/plain": "    hero_names  Agility  Super Strength  Stamina  Super Speed  \\\n0      3-D Man        1               1        1            1   \n1       A-Bomb        0               1        1            0   \n2   Abe Sapien        1               1        1            0   \n3     Abin Sur        0               0        0            0   \n4  Abomination        0               1        1            1   \n\n   Accelerated Healing  Durability  Longevity  Camouflage  Self-Sustenance  \\\n0                    0           0          0           0                0   \n1                    1           1          1           1                1   \n2                    1           1          1           0                0   \n3                    0           0          0           0                0   \n4                    1           0          0           0                0   \n\n   ...  Weather Control  Omnipresent  Omniscient  Hair Manipulation  \\\n0  ...                0            0           0                  0   \n1  ...                0            0           0                  0   \n2  ...                0            0           0                  0   \n3  ...                0            0           0                  0   \n4  ...                0            0           0                  0   \n\n   Nova Force  Odin Force  Phoenix Force  Intuitive aptitude  Melting  \\\n0           0           0              0                   0        0   \n1           0           0              0                   0        0   \n2           0           0              0                   0        0   \n3           0           0              0                   0        0   \n4           0           0              0                   0        0   \n\n   Changing Armor  \n0               0  \n1               0  \n2               0  \n3               0  \n4               0  \n\n[5 rows x 168 columns]",
      "text/html": "<div>\n<style scoped>\n    .dataframe tbody tr th:only-of-type {\n        vertical-align: middle;\n    }\n\n    .dataframe tbody tr th {\n        vertical-align: top;\n    }\n\n    .dataframe thead th {\n        text-align: right;\n    }\n</style>\n<table border=\"1\" class=\"dataframe\">\n  <thead>\n    <tr style=\"text-align: right;\">\n      <th></th>\n      <th>hero_names</th>\n      <th>Agility</th>\n      <th>Super Strength</th>\n      <th>Stamina</th>\n      <th>Super Speed</th>\n      <th>Accelerated Healing</th>\n      <th>Durability</th>\n      <th>Longevity</th>\n      <th>Camouflage</th>\n      <th>Self-Sustenance</th>\n      <th>...</th>\n      <th>Weather Control</th>\n      <th>Omnipresent</th>\n      <th>Omniscient</th>\n      <th>Hair Manipulation</th>\n      <th>Nova Force</th>\n      <th>Odin Force</th>\n      <th>Phoenix Force</th>\n      <th>Intuitive aptitude</th>\n      <th>Melting</th>\n      <th>Changing Armor</th>\n    </tr>\n  </thead>\n  <tbody>\n    <tr>\n      <th>0</th>\n      <td>3-D Man</td>\n      <td>1</td>\n      <td>1</td>\n      <td>1</td>\n      <td>1</td>\n      <td>0</td>\n      <td>0</td>\n      <td>0</td>\n      <td>0</td>\n      <td>0</td>\n      <td>...</td>\n      <td>0</td>\n      <td>0</td>\n      <td>0</td>\n      <td>0</td>\n      <td>0</td>\n      <td>0</td>\n      <td>0</td>\n      <td>0</td>\n      <td>0</td>\n      <td>0</td>\n    </tr>\n    <tr>\n      <th>1</th>\n      <td>A-Bomb</td>\n      <td>0</td>\n      <td>1</td>\n      <td>1</td>\n      <td>0</td>\n      <td>1</td>\n      <td>1</td>\n      <td>1</td>\n      <td>1</td>\n      <td>1</td>\n      <td>...</td>\n      <td>0</td>\n      <td>0</td>\n      <td>0</td>\n      <td>0</td>\n      <td>0</td>\n      <td>0</td>\n      <td>0</td>\n      <td>0</td>\n      <td>0</td>\n      <td>0</td>\n    </tr>\n    <tr>\n      <th>2</th>\n      <td>Abe Sapien</td>\n      <td>1</td>\n      <td>1</td>\n      <td>1</td>\n      <td>0</td>\n      <td>1</td>\n      <td>1</td>\n      <td>1</td>\n      <td>0</td>\n      <td>0</td>\n      <td>...</td>\n      <td>0</td>\n      <td>0</td>\n      <td>0</td>\n      <td>0</td>\n      <td>0</td>\n      <td>0</td>\n      <td>0</td>\n      <td>0</td>\n      <td>0</td>\n      <td>0</td>\n    </tr>\n    <tr>\n      <th>3</th>\n      <td>Abin Sur</td>\n      <td>0</td>\n      <td>0</td>\n      <td>0</td>\n      <td>0</td>\n      <td>0</td>\n      <td>0</td>\n      <td>0</td>\n      <td>0</td>\n      <td>0</td>\n      <td>...</td>\n      <td>0</td>\n      <td>0</td>\n      <td>0</td>\n      <td>0</td>\n      <td>0</td>\n      <td>0</td>\n      <td>0</td>\n      <td>0</td>\n      <td>0</td>\n      <td>0</td>\n    </tr>\n    <tr>\n      <th>4</th>\n      <td>Abomination</td>\n      <td>0</td>\n      <td>1</td>\n      <td>1</td>\n      <td>1</td>\n      <td>1</td>\n      <td>0</td>\n      <td>0</td>\n      <td>0</td>\n      <td>0</td>\n      <td>...</td>\n      <td>0</td>\n      <td>0</td>\n      <td>0</td>\n      <td>0</td>\n      <td>0</td>\n      <td>0</td>\n      <td>0</td>\n      <td>0</td>\n      <td>0</td>\n      <td>0</td>\n    </tr>\n  </tbody>\n</table>\n<p>5 rows × 168 columns</p>\n</div>"
     },
     "execution_count": 22,
     "metadata": {},
     "output_type": "execute_result"
    }
   ],
   "source": [
    "## Replace True with 1 and False with 0\n",
    "\n",
    "boolean = {True: 1, False:0}\n",
    "sh_powers.replace(boolean, inplace=True)\n",
    "sh_powers.head()"
   ],
   "metadata": {
    "collapsed": false
   }
  },
  {
   "cell_type": "markdown",
   "source": [
    "### Merge both dataframes"
   ],
   "metadata": {
    "collapsed": false
   }
  },
  {
   "cell_type": "code",
   "execution_count": 23,
   "outputs": [
    {
     "data": {
      "text/plain": "            Hero          Publisher Gender Eye color               Race  \\\n0         A-Bomb      Marvel Comics   Male    yellow              Human   \n1     Abe Sapien  Dark Horse Comics   Male      blue      Icthyo Sapien   \n2       Abin Sur          DC Comics   Male      blue            Ungaran   \n3    Abomination      Marvel Comics   Male     green  Human / Radiation   \n4  Absorbing Man      Marvel Comics   Male      blue              Human   \n5   Adam Strange          DC Comics   Male      blue              Human   \n6      Agent Bob      Marvel Comics   Male     brown              Human   \n7     Agent Zero      Marvel Comics   Male   Unknown            Unknown   \n8     Air-Walker      Marvel Comics   Male      blue            Unknown   \n9           Ajax      Marvel Comics   Male     brown             Cyborg   \n\n  Hair color  Height [cm] Skin color Alignment  Weight [Kg]  ...  \\\n0    No Hair          203    Unknown      good          441  ...   \n1    No Hair          191       blue      good           65  ...   \n2    No Hair          185        red      good           90  ...   \n3    No Hair          203    Unknown       bad          441  ...   \n4    No Hair          193    Unknown       bad          122  ...   \n5      Blond          185    Unknown      good           88  ...   \n6      Brown          178    Unknown      good           81  ...   \n7    Unknown          191    Unknown      good          104  ...   \n8      White          188    Unknown       bad          108  ...   \n9      Black          193    Unknown       bad           90  ...   \n\n   Weather Control  Omnipresent  Omniscient  Hair Manipulation  Nova Force  \\\n0                0            0           0                  0           0   \n1                0            0           0                  0           0   \n2                0            0           0                  0           0   \n3                0            0           0                  0           0   \n4                0            0           0                  0           0   \n5                0            0           0                  0           0   \n6                0            0           0                  0           0   \n7                0            0           0                  0           0   \n8                0            0           0                  0           0   \n9                0            0           0                  0           0   \n\n   Odin Force  Phoenix Force  Intuitive aptitude  Melting  Changing Armor  \n0           0              0                   0        0               0  \n1           0              0                   0        0               0  \n2           0              0                   0        0               0  \n3           0              0                   0        0               0  \n4           0              0                   0        0               0  \n5           0              0                   0        0               0  \n6           0              0                   0        0               0  \n7           0              0                   0        0               0  \n8           0              0                   0        0               0  \n9           0              0                   0        0               0  \n\n[10 rows x 177 columns]",
      "text/html": "<div>\n<style scoped>\n    .dataframe tbody tr th:only-of-type {\n        vertical-align: middle;\n    }\n\n    .dataframe tbody tr th {\n        vertical-align: top;\n    }\n\n    .dataframe thead th {\n        text-align: right;\n    }\n</style>\n<table border=\"1\" class=\"dataframe\">\n  <thead>\n    <tr style=\"text-align: right;\">\n      <th></th>\n      <th>Hero</th>\n      <th>Publisher</th>\n      <th>Gender</th>\n      <th>Eye color</th>\n      <th>Race</th>\n      <th>Hair color</th>\n      <th>Height [cm]</th>\n      <th>Skin color</th>\n      <th>Alignment</th>\n      <th>Weight [Kg]</th>\n      <th>...</th>\n      <th>Weather Control</th>\n      <th>Omnipresent</th>\n      <th>Omniscient</th>\n      <th>Hair Manipulation</th>\n      <th>Nova Force</th>\n      <th>Odin Force</th>\n      <th>Phoenix Force</th>\n      <th>Intuitive aptitude</th>\n      <th>Melting</th>\n      <th>Changing Armor</th>\n    </tr>\n  </thead>\n  <tbody>\n    <tr>\n      <th>0</th>\n      <td>A-Bomb</td>\n      <td>Marvel Comics</td>\n      <td>Male</td>\n      <td>yellow</td>\n      <td>Human</td>\n      <td>No Hair</td>\n      <td>203</td>\n      <td>Unknown</td>\n      <td>good</td>\n      <td>441</td>\n      <td>...</td>\n      <td>0</td>\n      <td>0</td>\n      <td>0</td>\n      <td>0</td>\n      <td>0</td>\n      <td>0</td>\n      <td>0</td>\n      <td>0</td>\n      <td>0</td>\n      <td>0</td>\n    </tr>\n    <tr>\n      <th>1</th>\n      <td>Abe Sapien</td>\n      <td>Dark Horse Comics</td>\n      <td>Male</td>\n      <td>blue</td>\n      <td>Icthyo Sapien</td>\n      <td>No Hair</td>\n      <td>191</td>\n      <td>blue</td>\n      <td>good</td>\n      <td>65</td>\n      <td>...</td>\n      <td>0</td>\n      <td>0</td>\n      <td>0</td>\n      <td>0</td>\n      <td>0</td>\n      <td>0</td>\n      <td>0</td>\n      <td>0</td>\n      <td>0</td>\n      <td>0</td>\n    </tr>\n    <tr>\n      <th>2</th>\n      <td>Abin Sur</td>\n      <td>DC Comics</td>\n      <td>Male</td>\n      <td>blue</td>\n      <td>Ungaran</td>\n      <td>No Hair</td>\n      <td>185</td>\n      <td>red</td>\n      <td>good</td>\n      <td>90</td>\n      <td>...</td>\n      <td>0</td>\n      <td>0</td>\n      <td>0</td>\n      <td>0</td>\n      <td>0</td>\n      <td>0</td>\n      <td>0</td>\n      <td>0</td>\n      <td>0</td>\n      <td>0</td>\n    </tr>\n    <tr>\n      <th>3</th>\n      <td>Abomination</td>\n      <td>Marvel Comics</td>\n      <td>Male</td>\n      <td>green</td>\n      <td>Human / Radiation</td>\n      <td>No Hair</td>\n      <td>203</td>\n      <td>Unknown</td>\n      <td>bad</td>\n      <td>441</td>\n      <td>...</td>\n      <td>0</td>\n      <td>0</td>\n      <td>0</td>\n      <td>0</td>\n      <td>0</td>\n      <td>0</td>\n      <td>0</td>\n      <td>0</td>\n      <td>0</td>\n      <td>0</td>\n    </tr>\n    <tr>\n      <th>4</th>\n      <td>Absorbing Man</td>\n      <td>Marvel Comics</td>\n      <td>Male</td>\n      <td>blue</td>\n      <td>Human</td>\n      <td>No Hair</td>\n      <td>193</td>\n      <td>Unknown</td>\n      <td>bad</td>\n      <td>122</td>\n      <td>...</td>\n      <td>0</td>\n      <td>0</td>\n      <td>0</td>\n      <td>0</td>\n      <td>0</td>\n      <td>0</td>\n      <td>0</td>\n      <td>0</td>\n      <td>0</td>\n      <td>0</td>\n    </tr>\n    <tr>\n      <th>5</th>\n      <td>Adam Strange</td>\n      <td>DC Comics</td>\n      <td>Male</td>\n      <td>blue</td>\n      <td>Human</td>\n      <td>Blond</td>\n      <td>185</td>\n      <td>Unknown</td>\n      <td>good</td>\n      <td>88</td>\n      <td>...</td>\n      <td>0</td>\n      <td>0</td>\n      <td>0</td>\n      <td>0</td>\n      <td>0</td>\n      <td>0</td>\n      <td>0</td>\n      <td>0</td>\n      <td>0</td>\n      <td>0</td>\n    </tr>\n    <tr>\n      <th>6</th>\n      <td>Agent Bob</td>\n      <td>Marvel Comics</td>\n      <td>Male</td>\n      <td>brown</td>\n      <td>Human</td>\n      <td>Brown</td>\n      <td>178</td>\n      <td>Unknown</td>\n      <td>good</td>\n      <td>81</td>\n      <td>...</td>\n      <td>0</td>\n      <td>0</td>\n      <td>0</td>\n      <td>0</td>\n      <td>0</td>\n      <td>0</td>\n      <td>0</td>\n      <td>0</td>\n      <td>0</td>\n      <td>0</td>\n    </tr>\n    <tr>\n      <th>7</th>\n      <td>Agent Zero</td>\n      <td>Marvel Comics</td>\n      <td>Male</td>\n      <td>Unknown</td>\n      <td>Unknown</td>\n      <td>Unknown</td>\n      <td>191</td>\n      <td>Unknown</td>\n      <td>good</td>\n      <td>104</td>\n      <td>...</td>\n      <td>0</td>\n      <td>0</td>\n      <td>0</td>\n      <td>0</td>\n      <td>0</td>\n      <td>0</td>\n      <td>0</td>\n      <td>0</td>\n      <td>0</td>\n      <td>0</td>\n    </tr>\n    <tr>\n      <th>8</th>\n      <td>Air-Walker</td>\n      <td>Marvel Comics</td>\n      <td>Male</td>\n      <td>blue</td>\n      <td>Unknown</td>\n      <td>White</td>\n      <td>188</td>\n      <td>Unknown</td>\n      <td>bad</td>\n      <td>108</td>\n      <td>...</td>\n      <td>0</td>\n      <td>0</td>\n      <td>0</td>\n      <td>0</td>\n      <td>0</td>\n      <td>0</td>\n      <td>0</td>\n      <td>0</td>\n      <td>0</td>\n      <td>0</td>\n    </tr>\n    <tr>\n      <th>9</th>\n      <td>Ajax</td>\n      <td>Marvel Comics</td>\n      <td>Male</td>\n      <td>brown</td>\n      <td>Cyborg</td>\n      <td>Black</td>\n      <td>193</td>\n      <td>Unknown</td>\n      <td>bad</td>\n      <td>90</td>\n      <td>...</td>\n      <td>0</td>\n      <td>0</td>\n      <td>0</td>\n      <td>0</td>\n      <td>0</td>\n      <td>0</td>\n      <td>0</td>\n      <td>0</td>\n      <td>0</td>\n      <td>0</td>\n    </tr>\n  </tbody>\n</table>\n<p>10 rows × 177 columns</p>\n</div>"
     },
     "execution_count": 23,
     "metadata": {},
     "output_type": "execute_result"
    }
   ],
   "source": [
    "sh_powers = sh_info.merge(sh_powers, left_on='Hero', right_on='hero_names', how='inner').drop(columns='hero_names')\n",
    "\n",
    "sh_powers.head(10)"
   ],
   "metadata": {
    "collapsed": false
   }
  },
  {
   "cell_type": "markdown",
   "source": [
    "### Comparing AVG weight of heros with superspeed"
   ],
   "metadata": {
    "collapsed": false
   }
  },
  {
   "cell_type": "code",
   "execution_count": 24,
   "outputs": [
    {
     "data": {
      "text/plain": "             Weight [Kg]\nSuper Speed             \n0             101.773585\n1             129.404040",
      "text/html": "<div>\n<style scoped>\n    .dataframe tbody tr th:only-of-type {\n        vertical-align: middle;\n    }\n\n    .dataframe tbody tr th {\n        vertical-align: top;\n    }\n\n    .dataframe thead th {\n        text-align: right;\n    }\n</style>\n<table border=\"1\" class=\"dataframe\">\n  <thead>\n    <tr style=\"text-align: right;\">\n      <th></th>\n      <th>Weight [Kg]</th>\n    </tr>\n    <tr>\n      <th>Super Speed</th>\n      <th></th>\n    </tr>\n  </thead>\n  <tbody>\n    <tr>\n      <th>0</th>\n      <td>101.773585</td>\n    </tr>\n    <tr>\n      <th>1</th>\n      <td>129.404040</td>\n    </tr>\n  </tbody>\n</table>\n</div>"
     },
     "execution_count": 24,
     "metadata": {},
     "output_type": "execute_result"
    }
   ],
   "source": [
    "sh_powers[['Weight [Kg]', 'Super Speed']].groupby('Super Speed').mean()"
   ],
   "metadata": {
    "collapsed": false
   }
  },
  {
   "cell_type": "markdown",
   "source": [
    "In average, Heros with super speed weights more than the others."
   ],
   "metadata": {
    "collapsed": false
   }
  },
  {
   "cell_type": "markdown",
   "source": [
    "### Average Height for Publisher"
   ],
   "metadata": {
    "collapsed": false
   }
  },
  {
   "cell_type": "code",
   "execution_count": 25,
   "outputs": [
    {
     "data": {
      "text/plain": "                   Height [cm]\nPublisher                     \nImage Comics        211.000000\nMarvel Comics       191.545455\nDC Comics           181.920290\nStar Trek           181.500000\nTeam Epic TV        180.750000\nUnknown             178.000000\nDark Horse Comics   176.909091\nShueisha            171.500000\nGeorge Lucas        159.600000",
      "text/html": "<div>\n<style scoped>\n    .dataframe tbody tr th:only-of-type {\n        vertical-align: middle;\n    }\n\n    .dataframe tbody tr th {\n        vertical-align: top;\n    }\n\n    .dataframe thead th {\n        text-align: right;\n    }\n</style>\n<table border=\"1\" class=\"dataframe\">\n  <thead>\n    <tr style=\"text-align: right;\">\n      <th></th>\n      <th>Height [cm]</th>\n    </tr>\n    <tr>\n      <th>Publisher</th>\n      <th></th>\n    </tr>\n  </thead>\n  <tbody>\n    <tr>\n      <th>Image Comics</th>\n      <td>211.000000</td>\n    </tr>\n    <tr>\n      <th>Marvel Comics</th>\n      <td>191.545455</td>\n    </tr>\n    <tr>\n      <th>DC Comics</th>\n      <td>181.920290</td>\n    </tr>\n    <tr>\n      <th>Star Trek</th>\n      <td>181.500000</td>\n    </tr>\n    <tr>\n      <th>Team Epic TV</th>\n      <td>180.750000</td>\n    </tr>\n    <tr>\n      <th>Unknown</th>\n      <td>178.000000</td>\n    </tr>\n    <tr>\n      <th>Dark Horse Comics</th>\n      <td>176.909091</td>\n    </tr>\n    <tr>\n      <th>Shueisha</th>\n      <td>171.500000</td>\n    </tr>\n    <tr>\n      <th>George Lucas</th>\n      <td>159.600000</td>\n    </tr>\n  </tbody>\n</table>\n</div>"
     },
     "execution_count": 25,
     "metadata": {},
     "output_type": "execute_result"
    }
   ],
   "source": [
    "sh_powers[['Publisher', 'Height [cm]']].groupby(by='Publisher').mean().sort_values(by='Height [cm]', ascending=False)"
   ],
   "metadata": {
    "collapsed": false
   }
  },
  {
   "cell_type": "markdown",
   "source": [
    "Taller Heros comes from Image Comics"
   ],
   "metadata": {
    "collapsed": false
   }
  },
  {
   "cell_type": "code",
   "execution_count": 25,
   "outputs": [],
   "source": [],
   "metadata": {
    "collapsed": false
   }
  }
 ],
 "metadata": {
  "kernelspec": {
   "name": "dojo-env",
   "language": "python",
   "display_name": "Python (dojo-env)"
  },
  "language_info": {
   "codemirror_mode": {
    "name": "ipython",
    "version": 2
   },
   "file_extension": ".py",
   "mimetype": "text/x-python",
   "name": "python",
   "nbconvert_exporter": "python",
   "pygments_lexer": "ipython2",
   "version": "2.7.6"
  }
 },
 "nbformat": 4,
 "nbformat_minor": 0
}
