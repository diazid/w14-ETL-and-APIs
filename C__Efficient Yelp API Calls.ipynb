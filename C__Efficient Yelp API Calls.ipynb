{
 "cells": [
  {
   "cell_type": "markdown",
   "source": [
    "# Efficient Yelp API Calls (Core)\n",
    "\n",
    "by Israel Diaz"
   ],
   "metadata": {
    "collapsed": false
   }
  },
  {
   "cell_type": "markdown",
   "source": [
    "## Assignment"
   ],
   "metadata": {
    "collapsed": false
   }
  },
  {
   "cell_type": "markdown",
   "source": [
    "* For this assignment, you will be working with the Yelp API.\n",
    "\n",
    "* As before, you will use the Yelp API to search your favorite city for a cuisine type of your choice.\n",
    "\n",
    "* Extract all of the results from your search and compile them into one dataframe using a for loop as shown in the lesson \"Code for Efficient API Extraction\"\n",
    "\n",
    "* Save your notebook, commit the change to your repository and submit the repository URL for this assignment."
   ],
   "metadata": {
    "collapsed": false
   }
  },
  {
   "cell_type": "markdown",
   "source": [
    "## Solution"
   ],
   "metadata": {
    "collapsed": false
   }
  },
  {
   "cell_type": "markdown",
   "source": [
    "### Imports"
   ],
   "metadata": {
    "collapsed": false
   }
  },
  {
   "cell_type": "code",
   "execution_count": 1,
   "metadata": {
    "collapsed": true
   },
   "outputs": [],
   "source": [
    "# Standard Imports\n",
    "import numpy as np\n",
    "import pandas as pd\n",
    "import matplotlib.pyplot as plt\n",
    "import seaborn as sns\n",
    "# Additional Imports\n",
    "import os, json, math, time\n",
    "from yelpapi import YelpAPI\n",
    "from tqdm.notebook import tqdm_notebook"
   ]
  },
  {
   "cell_type": "markdown",
   "source": [
    "### API setup"
   ],
   "metadata": {
    "collapsed": false
   }
  },
  {
   "cell_type": "code",
   "execution_count": 2,
   "outputs": [
    {
     "data": {
      "text/plain": "<yelpapi.yelpapi.YelpAPI at 0x241d5abfee0>"
     },
     "execution_count": 2,
     "metadata": {},
     "output_type": "execute_result"
    }
   ],
   "source": [
    "with open('C:/Users/diazi/.secret/yelp_api.json') as f:\n",
    "    login = json.load(f)\n",
    "login.keys()\n",
    "# Create an instance with your key\n",
    "yelp_api = YelpAPI(login['api-key'], timeout_s=5.0)\n",
    "yelp_api"
   ],
   "metadata": {
    "collapsed": false
   }
  },
  {
   "cell_type": "markdown",
   "source": [
    "### Define parameters of the search"
   ],
   "metadata": {
    "collapsed": false
   }
  },
  {
   "cell_type": "code",
   "execution_count": 3,
   "outputs": [],
   "source": [
    "# set our API call parameters\n",
    "LOCATION = 'SA, TX'\n",
    "TERM = 'Burger'"
   ],
   "metadata": {
    "collapsed": false
   }
  },
  {
   "cell_type": "code",
   "execution_count": 4,
   "outputs": [
    {
     "data": {
      "text/plain": "'data/results_in_progress_STGO_Barros_Luco.json'"
     },
     "execution_count": 4,
     "metadata": {},
     "output_type": "execute_result"
    }
   ],
   "source": [
    "JSON_FILE = \"data/results_in_progress_SA_Burger.json\"\n",
    "JSON_FILE"
   ],
   "metadata": {
    "collapsed": false
   }
  },
  {
   "cell_type": "markdown",
   "source": [
    "### Define JSON file function"
   ],
   "metadata": {
    "collapsed": false
   }
  },
  {
   "cell_type": "code",
   "execution_count": 5,
   "outputs": [],
   "source": [
    "#@Create Json File Function\n",
    "def create_json_file(JSON_FILE,  delete_if_exists=False):\n",
    "\n",
    "    ## Check if JSON_FILE exists\n",
    "    file_exists = os.path.isfile(JSON_FILE)\n",
    "\n",
    "    ## If it DOES exist:\n",
    "    if file_exists == True:\n",
    "\n",
    "        ## Check if user wants to delete if exists\n",
    "        if delete_if_exists==True:\n",
    "\n",
    "            print(f\"[!] {JSON_FILE} already exists. Deleting previous file...\")\n",
    "            ## delete file and confirm it no longer exits.\n",
    "            os.remove(JSON_FILE) ## Recursive call to function after old file deleted\n",
    "            create_json_file(JSON_FILE,delete_if_exists=False)\n",
    "        else:\n",
    "            print(f\"[i] {JSON_FILE} already exists.\")\n",
    "\n",
    "\n",
    "    ## If it does NOT exist:\n",
    "    else:\n",
    "\n",
    "        ## INFORM USER AND SAVE EMPTY LIST\n",
    "        print(f\"[i] {JSON_FILE} not found. Saving empty list to new file.\")\n",
    "\n",
    "        ## CREATE ANY NEEDED FOLDERS\n",
    "        # Get the Folder Name only\n",
    "        folder = os.path.dirname(JSON_FILE)\n",
    "\n",
    "        ## If JSON_FILE included a folder:\n",
    "        if len(folder)>0:\n",
    "            # create the folder\n",
    "            os.makedirs(folder,exist_ok=True)\n",
    "        ## Save empty list to start the json file\n",
    "        with open(JSON_FILE,'w') as f:\n",
    "            json.dump([],f)"
   ],
   "metadata": {
    "collapsed": false
   }
  },
  {
   "cell_type": "markdown",
   "source": [
    "### Create JSON file and check for results"
   ],
   "metadata": {
    "collapsed": false
   }
  },
  {
   "cell_type": "code",
   "execution_count": 6,
   "outputs": [
    {
     "name": "stdout",
     "output_type": "stream",
     "text": [
      "[!] data/results_in_progress_STGO_Barros_Luco.json already exists. Deleting previous file...\n",
      "[i] data/results_in_progress_STGO_Barros_Luco.json not found. Saving empty list to new file.\n",
      "- 0 previous results found.\n",
      "Number search pages: 85\n"
     ]
    }
   ],
   "source": [
    "#@Running file and call api\n",
    "\n",
    "## Create a new empty json file (exist the previous if it exists)\n",
    "create_json_file(JSON_FILE, delete_if_exists=True)\n",
    "## Load previous results and use len of results for offset\n",
    "with open(JSON_FILE,'r') as f:\n",
    "    previous_results = json.load(f)\n",
    "\n",
    "## set offset based on previous results\n",
    "n_results = len(previous_results)\n",
    "print(f'- {n_results} previous results found.')\n",
    "# use our yelp_api variable's search_query method to perform our API call\n",
    "results = yelp_api.search_query(location=LOCATION,\n",
    "                                term=TERM,\n",
    "                                offset=n_results)\n",
    "## How many results total?\n",
    "total_results = results['total']\n",
    "## How many did we get the details for?\n",
    "results_per_page = len(results['businesses'])\n",
    "# Use math.ceil to round up for the total number of pages of results.\n",
    "n_pages = math.ceil((results['total']-n_results)/ results_per_page)\n",
    "print(f'Number search pages: {n_pages}')"
   ],
   "metadata": {
    "collapsed": false
   }
  },
  {
   "cell_type": "markdown",
   "source": [
    "### Saving searches into JSON file"
   ],
   "metadata": {
    "collapsed": false
   }
  },
  {
   "cell_type": "code",
   "execution_count": 7,
   "outputs": [
    {
     "data": {
      "text/plain": "  0%|          | 0/85 [00:00<?, ?it/s]",
      "application/vnd.jupyter.widget-view+json": {
       "version_major": 2,
       "version_minor": 0,
       "model_id": "a6d79e4f145942b2be812c5593bf736a"
      }
     },
     "metadata": {},
     "output_type": "display_data"
    },
    {
     "name": "stdout",
     "output_type": "stream",
     "text": [
      "Exceeded 1000 api calls. Stopping loop.\n"
     ]
    }
   ],
   "source": [
    "#@Saving results into JSON file\n",
    "\n",
    "for i in tqdm_notebook( range(1,n_pages+1)):\n",
    "\n",
    "    ## Read in results in progress file and check the length\n",
    "    with open(JSON_FILE, 'r') as f:\n",
    "        previous_results = json.load(f)\n",
    "    ## save number of results for to use as offset\n",
    "    n_results = len(previous_results)\n",
    "\n",
    "    if (n_results + results_per_page) > 1000:\n",
    "        print('Exceeded 1000 api calls. Stopping loop.')\n",
    "        break\n",
    "\n",
    "    ## use n_results as the OFFSET\n",
    "    results = yelp_api.search_query(location=LOCATION,\n",
    "                                    term=TERM,\n",
    "                                    offset=n_results)\n",
    "\n",
    "\n",
    "\n",
    "    ## append new results and save to file\n",
    "    previous_results.extend(results['businesses'])\n",
    "\n",
    "    # display(previous_results)\n",
    "    with open(JSON_FILE,'w') as f:\n",
    "        json.dump(previous_results,f)\n",
    "\n",
    "    time.sleep(.2)"
   ],
   "metadata": {
    "collapsed": false
   }
  },
  {
   "cell_type": "markdown",
   "source": [
    "It stopped at 50th call"
   ],
   "metadata": {
    "collapsed": false
   }
  },
  {
   "cell_type": "code",
   "execution_count": 8,
   "outputs": [
    {
     "data": {
      "text/plain": "                       id                                 alias  \\\n0  1pR8Nw9DAZSnMdpQbM5VRw  fattboy-burgers-and-dogs-san-antonio   \n1  _SSmQGFUykYBwUM2elSnbw   the-good-news-burgers-san-antonio-2   \n2  y0G19V0kCxK3XDE4PuEjKw            tycoon-flats-san-antonio-2   \n3  RoyklFAqrt_D4IyGnBMNFw                mr-juicy-san-antonio-2   \n4  PcDvDnbLGMcNXYtcmP_TfQ               burger-factory-live-oak   \n\n                     name                                          image_url  \\\n0  Fattboy Burgers & Dogs  https://s3-media2.fl.yelpcdn.com/bphoto/tDtsh_...   \n1   The Good News Burgers  https://s3-media2.fl.yelpcdn.com/bphoto/_HLbdh...   \n2            Tycoon Flats  https://s3-media1.fl.yelpcdn.com/bphoto/_7HK_w...   \n3                Mr Juicy  https://s3-media4.fl.yelpcdn.com/bphoto/UVN2PF...   \n4          Burger Factory  https://s3-media1.fl.yelpcdn.com/bphoto/zdXNfe...   \n\n   is_closed                                                url  review_count  \\\n0      False  https://www.yelp.com/biz/fattboy-burgers-and-d...           705   \n1      False  https://www.yelp.com/biz/the-good-news-burgers...           113   \n2      False  https://www.yelp.com/biz/tycoon-flats-san-anto...          1217   \n3      False  https://www.yelp.com/biz/mr-juicy-san-antonio-...           422   \n4      False  https://www.yelp.com/biz/burger-factory-live-o...             8   \n\n                                          categories  rating  \\\n0  [{'alias': 'burgers', 'title': 'Burgers'}, {'a...     4.5   \n1         [{'alias': 'burgers', 'title': 'Burgers'}]     4.5   \n2  [{'alias': 'burgers', 'title': 'Burgers'}, {'a...     4.0   \n3  [{'alias': 'tradamerican', 'title': 'American ...     4.5   \n4         [{'alias': 'burgers', 'title': 'Burgers'}]     5.0   \n\n                                         coordinates        transactions  \\\n0      {'latitude': 29.49462, 'longitude': -98.5356}          [delivery]   \n1   {'latitude': 29.505741, 'longitude': -98.498459}          [delivery]   \n2  {'latitude': 29.452280000000002, 'longitude': ...  [delivery, pickup]   \n3       {'latitude': 29.4662, 'longitude': -98.4995}          [delivery]   \n4  {'latitude': 29.57761606342342, 'longitude': -...  [delivery, pickup]   \n\n  price                                           location         phone  \\\n0    $$  {'address1': '2345 Vance Jackson Rd', 'address...  +12103773288   \n1    $$  {'address1': '6900 San Pedro', 'address2': 'St...  +12107819171   \n2    $$  {'address1': '2926 N Saint Marys St', 'address...  +12103200819   \n3    $$  {'address1': '3315 San Pedro', 'address2': '',...  +12109949838   \n4   NaN  {'address1': '7525 N Loop 1604 E', 'address2':...  +12105304444   \n\n    display_phone      distance  \n0  (210) 377-3288   2051.741303  \n1  (210) 781-9171   1978.987257  \n2  (210) 320-0819   5494.398854  \n3  (210) 994-9838   3451.037489  \n4  (210) 530-4444  19169.035479  ",
      "text/html": "<div>\n<style scoped>\n    .dataframe tbody tr th:only-of-type {\n        vertical-align: middle;\n    }\n\n    .dataframe tbody tr th {\n        vertical-align: top;\n    }\n\n    .dataframe thead th {\n        text-align: right;\n    }\n</style>\n<table border=\"1\" class=\"dataframe\">\n  <thead>\n    <tr style=\"text-align: right;\">\n      <th></th>\n      <th>id</th>\n      <th>alias</th>\n      <th>name</th>\n      <th>image_url</th>\n      <th>is_closed</th>\n      <th>url</th>\n      <th>review_count</th>\n      <th>categories</th>\n      <th>rating</th>\n      <th>coordinates</th>\n      <th>transactions</th>\n      <th>price</th>\n      <th>location</th>\n      <th>phone</th>\n      <th>display_phone</th>\n      <th>distance</th>\n    </tr>\n  </thead>\n  <tbody>\n    <tr>\n      <th>0</th>\n      <td>1pR8Nw9DAZSnMdpQbM5VRw</td>\n      <td>fattboy-burgers-and-dogs-san-antonio</td>\n      <td>Fattboy Burgers &amp; Dogs</td>\n      <td>https://s3-media2.fl.yelpcdn.com/bphoto/tDtsh_...</td>\n      <td>False</td>\n      <td>https://www.yelp.com/biz/fattboy-burgers-and-d...</td>\n      <td>705</td>\n      <td>[{'alias': 'burgers', 'title': 'Burgers'}, {'a...</td>\n      <td>4.5</td>\n      <td>{'latitude': 29.49462, 'longitude': -98.5356}</td>\n      <td>[delivery]</td>\n      <td>$$</td>\n      <td>{'address1': '2345 Vance Jackson Rd', 'address...</td>\n      <td>+12103773288</td>\n      <td>(210) 377-3288</td>\n      <td>2051.741303</td>\n    </tr>\n    <tr>\n      <th>1</th>\n      <td>_SSmQGFUykYBwUM2elSnbw</td>\n      <td>the-good-news-burgers-san-antonio-2</td>\n      <td>The Good News Burgers</td>\n      <td>https://s3-media2.fl.yelpcdn.com/bphoto/_HLbdh...</td>\n      <td>False</td>\n      <td>https://www.yelp.com/biz/the-good-news-burgers...</td>\n      <td>113</td>\n      <td>[{'alias': 'burgers', 'title': 'Burgers'}]</td>\n      <td>4.5</td>\n      <td>{'latitude': 29.505741, 'longitude': -98.498459}</td>\n      <td>[delivery]</td>\n      <td>$$</td>\n      <td>{'address1': '6900 San Pedro', 'address2': 'St...</td>\n      <td>+12107819171</td>\n      <td>(210) 781-9171</td>\n      <td>1978.987257</td>\n    </tr>\n    <tr>\n      <th>2</th>\n      <td>y0G19V0kCxK3XDE4PuEjKw</td>\n      <td>tycoon-flats-san-antonio-2</td>\n      <td>Tycoon Flats</td>\n      <td>https://s3-media1.fl.yelpcdn.com/bphoto/_7HK_w...</td>\n      <td>False</td>\n      <td>https://www.yelp.com/biz/tycoon-flats-san-anto...</td>\n      <td>1217</td>\n      <td>[{'alias': 'burgers', 'title': 'Burgers'}, {'a...</td>\n      <td>4.0</td>\n      <td>{'latitude': 29.452280000000002, 'longitude': ...</td>\n      <td>[delivery, pickup]</td>\n      <td>$$</td>\n      <td>{'address1': '2926 N Saint Marys St', 'address...</td>\n      <td>+12103200819</td>\n      <td>(210) 320-0819</td>\n      <td>5494.398854</td>\n    </tr>\n    <tr>\n      <th>3</th>\n      <td>RoyklFAqrt_D4IyGnBMNFw</td>\n      <td>mr-juicy-san-antonio-2</td>\n      <td>Mr Juicy</td>\n      <td>https://s3-media4.fl.yelpcdn.com/bphoto/UVN2PF...</td>\n      <td>False</td>\n      <td>https://www.yelp.com/biz/mr-juicy-san-antonio-...</td>\n      <td>422</td>\n      <td>[{'alias': 'tradamerican', 'title': 'American ...</td>\n      <td>4.5</td>\n      <td>{'latitude': 29.4662, 'longitude': -98.4995}</td>\n      <td>[delivery]</td>\n      <td>$$</td>\n      <td>{'address1': '3315 San Pedro', 'address2': '',...</td>\n      <td>+12109949838</td>\n      <td>(210) 994-9838</td>\n      <td>3451.037489</td>\n    </tr>\n    <tr>\n      <th>4</th>\n      <td>PcDvDnbLGMcNXYtcmP_TfQ</td>\n      <td>burger-factory-live-oak</td>\n      <td>Burger Factory</td>\n      <td>https://s3-media1.fl.yelpcdn.com/bphoto/zdXNfe...</td>\n      <td>False</td>\n      <td>https://www.yelp.com/biz/burger-factory-live-o...</td>\n      <td>8</td>\n      <td>[{'alias': 'burgers', 'title': 'Burgers'}]</td>\n      <td>5.0</td>\n      <td>{'latitude': 29.57761606342342, 'longitude': -...</td>\n      <td>[delivery, pickup]</td>\n      <td>NaN</td>\n      <td>{'address1': '7525 N Loop 1604 E', 'address2':...</td>\n      <td>+12105304444</td>\n      <td>(210) 530-4444</td>\n      <td>19169.035479</td>\n    </tr>\n  </tbody>\n</table>\n</div>"
     },
     "metadata": {},
     "output_type": "display_data"
    },
    {
     "data": {
      "text/plain": "                         id                                    alias  \\\n995  8nS6jpx95HL9yZe11WXang         culichis-and-beer-tx-san-antonio   \n996  H7Q0PUWc_HAl_35oe8lsqA   la-taqueria-de-monterrey-san-antonio-2   \n997  sOwjQkPLaSYEpqBeCLHgLw  spice-fine-indian-cuisine-san-antonio-3   \n998  0JmsNrzin3MB5Su0Df9oZA            sonic-drive-in-san-antonio-84   \n999  M1kmzMkFgOATfnULmzadSw       andgravy-123-foodtruck-san-antonio   \n\n                          name  \\\n995       Culichis and Beer Tx   \n996   La Taqueria de Monterrey   \n997  Spice Fine Indian Cuisine   \n998             Sonic Drive-In   \n999     AndGravy 123 Foodtruck   \n\n                                             image_url  is_closed  \\\n995  https://s3-media2.fl.yelpcdn.com/bphoto/g1ZJeO...      False   \n996  https://s3-media3.fl.yelpcdn.com/bphoto/banfPy...      False   \n997  https://s3-media2.fl.yelpcdn.com/bphoto/FEMn5B...      False   \n998  https://s3-media3.fl.yelpcdn.com/bphoto/y3ppOR...      False   \n999  https://s3-media1.fl.yelpcdn.com/bphoto/VakA6W...      False   \n\n                                                   url  review_count  \\\n995  https://www.yelp.com/biz/culichis-and-beer-tx-...            34   \n996  https://www.yelp.com/biz/la-taqueria-de-monter...           161   \n997  https://www.yelp.com/biz/spice-fine-indian-cui...           482   \n998  https://www.yelp.com/biz/sonic-drive-in-san-an...            18   \n999  https://www.yelp.com/biz/andgravy-123-foodtruc...             7   \n\n                                            categories  rating  \\\n995  [{'alias': 'mexican', 'title': 'Mexican'}, {'a...     4.0   \n996  [{'alias': 'tacos', 'title': 'Tacos'}, {'alias...     4.5   \n997  [{'alias': 'indpak', 'title': 'Indian'}, {'ali...     4.0   \n998  [{'alias': 'burgers', 'title': 'Burgers'}, {'a...     2.5   \n999  [{'alias': 'foodtrucks', 'title': 'Food Trucks...     4.0   \n\n                                           coordinates        transactions  \\\n995     {'latitude': 29.50379, 'longitude': -98.58572}          [delivery]   \n996   {'latitude': 29.484182, 'longitude': -98.559871}  [pickup, delivery]   \n997  {'latitude': 29.4925527, 'longitude': -98.5553...  [pickup, delivery]   \n998  {'latitude': 29.43080369913767, 'longitude': -...                  []   \n999  {'latitude': 29.661439453373, 'longitude': -98...                  []   \n\n    price                                           location         phone  \\\n995   NaN  {'address1': '7271 Wurzbach Rd', 'address2': '...  +12108881525   \n996     $  {'address1': '2715 Hillcrest Dr', 'address2': ...  +12109948686   \n997    $$  {'address1': '3720 NW Loop 410', 'address2': N...  +12102539658   \n998   NaN  {'address1': '225 Talley Rd', 'address2': '', ...  +12102651050   \n999   NaN  {'address1': '', 'address2': '', 'address3': N...  +12103945065   \n\n      display_phone      distance  \n995  (210) 888-1525   6979.819100  \n996  (210) 994-8686   4546.061486  \n997  (210) 253-9658   3965.641102  \n998  (210) 265-1050  23733.217222  \n999  (210) 394-5065  23632.580946  ",
      "text/html": "<div>\n<style scoped>\n    .dataframe tbody tr th:only-of-type {\n        vertical-align: middle;\n    }\n\n    .dataframe tbody tr th {\n        vertical-align: top;\n    }\n\n    .dataframe thead th {\n        text-align: right;\n    }\n</style>\n<table border=\"1\" class=\"dataframe\">\n  <thead>\n    <tr style=\"text-align: right;\">\n      <th></th>\n      <th>id</th>\n      <th>alias</th>\n      <th>name</th>\n      <th>image_url</th>\n      <th>is_closed</th>\n      <th>url</th>\n      <th>review_count</th>\n      <th>categories</th>\n      <th>rating</th>\n      <th>coordinates</th>\n      <th>transactions</th>\n      <th>price</th>\n      <th>location</th>\n      <th>phone</th>\n      <th>display_phone</th>\n      <th>distance</th>\n    </tr>\n  </thead>\n  <tbody>\n    <tr>\n      <th>995</th>\n      <td>8nS6jpx95HL9yZe11WXang</td>\n      <td>culichis-and-beer-tx-san-antonio</td>\n      <td>Culichis and Beer Tx</td>\n      <td>https://s3-media2.fl.yelpcdn.com/bphoto/g1ZJeO...</td>\n      <td>False</td>\n      <td>https://www.yelp.com/biz/culichis-and-beer-tx-...</td>\n      <td>34</td>\n      <td>[{'alias': 'mexican', 'title': 'Mexican'}, {'a...</td>\n      <td>4.0</td>\n      <td>{'latitude': 29.50379, 'longitude': -98.58572}</td>\n      <td>[delivery]</td>\n      <td>NaN</td>\n      <td>{'address1': '7271 Wurzbach Rd', 'address2': '...</td>\n      <td>+12108881525</td>\n      <td>(210) 888-1525</td>\n      <td>6979.819100</td>\n    </tr>\n    <tr>\n      <th>996</th>\n      <td>H7Q0PUWc_HAl_35oe8lsqA</td>\n      <td>la-taqueria-de-monterrey-san-antonio-2</td>\n      <td>La Taqueria de Monterrey</td>\n      <td>https://s3-media3.fl.yelpcdn.com/bphoto/banfPy...</td>\n      <td>False</td>\n      <td>https://www.yelp.com/biz/la-taqueria-de-monter...</td>\n      <td>161</td>\n      <td>[{'alias': 'tacos', 'title': 'Tacos'}, {'alias...</td>\n      <td>4.5</td>\n      <td>{'latitude': 29.484182, 'longitude': -98.559871}</td>\n      <td>[pickup, delivery]</td>\n      <td>$</td>\n      <td>{'address1': '2715 Hillcrest Dr', 'address2': ...</td>\n      <td>+12109948686</td>\n      <td>(210) 994-8686</td>\n      <td>4546.061486</td>\n    </tr>\n    <tr>\n      <th>997</th>\n      <td>sOwjQkPLaSYEpqBeCLHgLw</td>\n      <td>spice-fine-indian-cuisine-san-antonio-3</td>\n      <td>Spice Fine Indian Cuisine</td>\n      <td>https://s3-media2.fl.yelpcdn.com/bphoto/FEMn5B...</td>\n      <td>False</td>\n      <td>https://www.yelp.com/biz/spice-fine-indian-cui...</td>\n      <td>482</td>\n      <td>[{'alias': 'indpak', 'title': 'Indian'}, {'ali...</td>\n      <td>4.0</td>\n      <td>{'latitude': 29.4925527, 'longitude': -98.5553...</td>\n      <td>[pickup, delivery]</td>\n      <td>$$</td>\n      <td>{'address1': '3720 NW Loop 410', 'address2': N...</td>\n      <td>+12102539658</td>\n      <td>(210) 253-9658</td>\n      <td>3965.641102</td>\n    </tr>\n    <tr>\n      <th>998</th>\n      <td>0JmsNrzin3MB5Su0Df9oZA</td>\n      <td>sonic-drive-in-san-antonio-84</td>\n      <td>Sonic Drive-In</td>\n      <td>https://s3-media3.fl.yelpcdn.com/bphoto/y3ppOR...</td>\n      <td>False</td>\n      <td>https://www.yelp.com/biz/sonic-drive-in-san-an...</td>\n      <td>18</td>\n      <td>[{'alias': 'burgers', 'title': 'Burgers'}, {'a...</td>\n      <td>2.5</td>\n      <td>{'latitude': 29.43080369913767, 'longitude': -...</td>\n      <td>[]</td>\n      <td>NaN</td>\n      <td>{'address1': '225 Talley Rd', 'address2': '', ...</td>\n      <td>+12102651050</td>\n      <td>(210) 265-1050</td>\n      <td>23733.217222</td>\n    </tr>\n    <tr>\n      <th>999</th>\n      <td>M1kmzMkFgOATfnULmzadSw</td>\n      <td>andgravy-123-foodtruck-san-antonio</td>\n      <td>AndGravy 123 Foodtruck</td>\n      <td>https://s3-media1.fl.yelpcdn.com/bphoto/VakA6W...</td>\n      <td>False</td>\n      <td>https://www.yelp.com/biz/andgravy-123-foodtruc...</td>\n      <td>7</td>\n      <td>[{'alias': 'foodtrucks', 'title': 'Food Trucks...</td>\n      <td>4.0</td>\n      <td>{'latitude': 29.661439453373, 'longitude': -98...</td>\n      <td>[]</td>\n      <td>NaN</td>\n      <td>{'address1': '', 'address2': '', 'address3': N...</td>\n      <td>+12103945065</td>\n      <td>(210) 394-5065</td>\n      <td>23632.580946</td>\n    </tr>\n  </tbody>\n</table>\n</div>"
     },
     "metadata": {},
     "output_type": "display_data"
    }
   ],
   "source": [
    "# load final results\n",
    "final_df = pd.read_json(JSON_FILE)\n",
    "display(final_df.head(), final_df.tail())"
   ],
   "metadata": {
    "collapsed": false
   }
  },
  {
   "cell_type": "markdown",
   "source": [
    "### Looking for duplicated"
   ],
   "metadata": {
    "collapsed": false
   }
  },
  {
   "cell_type": "code",
   "execution_count": 9,
   "outputs": [
    {
     "data": {
      "text/plain": "0"
     },
     "execution_count": 9,
     "metadata": {},
     "output_type": "execute_result"
    }
   ],
   "source": [
    "# check for duplicate ID's\n",
    "final_df.duplicated(subset='id').sum()"
   ],
   "metadata": {
    "collapsed": false
   }
  },
  {
   "cell_type": "markdown",
   "source": [
    "No duplicated values"
   ],
   "metadata": {
    "collapsed": false
   }
  },
  {
   "cell_type": "markdown",
   "source": [
    "### Saving dataframe into CSV file"
   ],
   "metadata": {
    "collapsed": false
   }
  },
  {
   "cell_type": "code",
   "execution_count": 10,
   "outputs": [],
   "source": [
    "# save the final results to a compressed csv\n",
    "final_df.to_csv('data/final_results_SA_Burger.csv.gz', compression='gzip',index=False)"
   ],
   "metadata": {
    "collapsed": false
   }
  },
  {
   "cell_type": "code",
   "execution_count": 10,
   "outputs": [],
   "source": [],
   "metadata": {
    "collapsed": false
   }
  }
 ],
 "metadata": {
  "kernelspec": {
   "display_name": "Python 3",
   "language": "python",
   "name": "python3"
  },
  "language_info": {
   "codemirror_mode": {
    "name": "ipython",
    "version": 2
   },
   "file_extension": ".py",
   "mimetype": "text/x-python",
   "name": "python",
   "nbconvert_exporter": "python",
   "pygments_lexer": "ipython2",
   "version": "2.7.6"
  }
 },
 "nbformat": 4,
 "nbformat_minor": 0
}
